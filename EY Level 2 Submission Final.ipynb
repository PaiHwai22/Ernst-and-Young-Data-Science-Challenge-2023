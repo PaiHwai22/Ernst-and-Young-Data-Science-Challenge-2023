{
 "cells": [
  {
   "cell_type": "markdown",
   "id": "e0d47b83-3a1b-46c3-b23b-5f142dbec9e6",
   "metadata": {
    "pycharm": {
     "name": "#%% md\n"
    }
   },
   "source": [
    "# Level 2: Rice Crop Yield Forecasting Tool Benchmark Notebook"
   ]
  },
  {
   "cell_type": "markdown",
   "id": "7b9d7d53-a5f2-4db9-b352-13f60f836489",
   "metadata": {
    "pycharm": {
     "name": "#%% md\n"
    }
   },
   "source": [
    "## Challenge Level 2 Overview"
   ]
  },
  {
   "cell_type": "markdown",
   "id": "7a7167ea-5f1c-48c6-ad88-e34e9bb6b4c4",
   "metadata": {
    "pycharm": {
     "name": "#%% md\n"
    }
   },
   "source": [
    "<p align=\"justify\">Welcome to the EY Open Science Data Challenge 2023! This challenge consists of two levels – Level 1 and Level 2. This is the Level 2 challenge aimed at participants who have intermediate or advanced skill sets in data science and programming. The goal of Level 2 is to predict the yield of rice crop at a given location using satellite data. By the time you complete this level, you would have developed a rice crop yield forecasting model, which can predict the yield of rice crop.\n",
    "</p>"
   ]
  },
  {
   "cell_type": "markdown",
   "id": "d5bee540-db29-4fa2-999c-09a4a5b2975d",
   "metadata": {
    "pycharm": {
     "name": "#%% md\n"
    }
   },
   "source": [
    "<b>Challenge Aim: </b><p align=\"justify\"> <p>"
   ]
  },
  {
   "cell_type": "markdown",
   "id": "098963b6-4e9f-463f-8968-ee0b266eec58",
   "metadata": {
    "pycharm": {
     "name": "#%% md\n"
    }
   },
   "source": [
    "<p align=\"justify\">In this notebook, we will demonstrate a basic model workflow that can serve as a starting point for the challenge. The basic model has been built to predict the yield of  rice crop in Vietnam using features from Sentinel-1 Radiometrically Terrain Corrected (RTC)  dataset as predictor variables. In this demonstration, we have used statistical features generated from the bands (VV and VH) of the Sentinel-1 RTC dataset and mathematical combinations of these bands (VV/VH). We have trained an extra tree regressor model with these features. We have extracted the VV and VH band data from the Sentinel-1 dataset for summer autumn (SA) /winter spring (WS) season for the year 2022 based on the data provided.\n",
    "\n",
    "Most of the functions presented in this notebook were adapted from the <a href=\"https://planetarycomputer.microsoft.com/dataset/sentinel-1-rtc#Example-Notebook\">Sentinel-1-RTC notebook</a> found in the Planetary Computer portal.</p>\n",
    "    \n",
    "<p align=\"justify\"> Please note that this notebook is just a starting point. We have made many assumptions in this notebook that you may think are not best for solving the challenge effectively. You are encouraged to modify these functions, rewrite them, or try an entirely new approach.</p>"
   ]
  },
  {
   "cell_type": "markdown",
   "id": "f476c1ba-a6e4-477b-be3d-dcb9135a18f2",
   "metadata": {
    "pycharm": {
     "name": "#%% md\n"
    }
   },
   "source": [
    "## Load In Dependencies"
   ]
  },
  {
   "cell_type": "markdown",
   "id": "84bb0e63-fc52-459c-a385-2d62e817fa19",
   "metadata": {
    "pycharm": {
     "name": "#%% md\n"
    }
   },
   "source": [
    "To run this demonstration notebook, you will need to have the following packages imported below installed. This may take some time.  "
   ]
  },
  {
   "cell_type": "markdown",
   "id": "04aae583-3c45-4d46-9fd7-7bb4629f38ba",
   "metadata": {
    "pycharm": {
     "name": "#%% md\n"
    }
   },
   "source": [
    "#### Note: Environment setup\n",
    "Running this notebook requires an API key.\n",
    "\n",
    "Please use <b>planetary_computer.settings.set_subscription_key</b> (<i style=\"color:#eb2f2f;\">API Key</i>) and pass your API key here.\n",
    "\n",
    "See <a href=\"https://planetarycomputer.microsoft.com/docs/concepts/sas/#when-an-account-is-needed\">when an account is needed for more </a>, and <a href=\"https://planetarycomputer.microsoft.com/account/request\">request</a> an account if needed."
   ]
  },
  {
   "cell_type": "code",
   "execution_count": 2,
   "id": "5eba2110-c3ad-4136-849e-14ffa70decd2",
   "metadata": {
    "pycharm": {
     "name": "#%%\n"
    }
   },
   "outputs": [],
   "source": [
    "# Supress Warnings\n",
    "import warnings\n",
    "warnings.filterwarnings('ignore')\n",
    "\n",
    "# Visualization\n",
    "import ipyleaflet\n",
    "import matplotlib.pyplot as plt\n",
    "from IPython.display import Image\n",
    "import seaborn as sns\n",
    "\n",
    "# Data Science\n",
    "import numpy as np\n",
    "import pandas as pd\n",
    "import statsmodels.api as sm\n",
    "\n",
    "# Feature Engineering\n",
    "from sklearn.model_selection import train_test_split\n",
    "from sklearn import preprocessing\n",
    "\n",
    "# Machine Learning\n",
    "from sklearn.ensemble import ExtraTreesRegressor\n",
    "from sklearn.metrics import r2_score\n",
    "\n",
    "\n",
    "# Planetary Computer Tools\n",
    "import pystac\n",
    "import pystac_client\n",
    "import odc\n",
    "from pystac_client import Client\n",
    "from pystac.extensions.eo import EOExtension as eo\n",
    "from odc.stac import stac_load\n",
    "import planetary_computer as pc\n",
    "\n",
    "# Please pass your API key here\n",
    "# pc.settings.set_subscription_key('#hidden_for_security')\n",
    "\n",
    "# Others\n",
    "import requests\n",
    "import rich.table\n",
    "from itertools import cycle\n",
    "from tqdm import tqdm\n",
    "tqdm.pandas()\n",
    "from tqdm.notebook import tqdm_notebook\n",
    "tqdm_notebook.pandas()"
   ]
  },
  {
   "cell_type": "markdown",
   "id": "d9323515-02ec-4a3b-b64e-14c368c6908c",
   "metadata": {
    "pycharm": {
     "name": "#%% md\n"
    }
   },
   "source": [
    "## Response Variable"
   ]
  },
  {
   "cell_type": "markdown",
   "id": "a3b0829a-91d4-4a1d-af55-ab359a1536e0",
   "metadata": {
    "pycharm": {
     "name": "#%% md\n"
    }
   },
   "source": [
    "Before building the model, we need to load in the rice crop yield data. In particular, rice crop yield data was collected for the period of late-2021 to mid-2022 over the Chau Phu, Chau Thanh and Thoai Son districts.\n",
    "\n",
    "This is a dense rice crop region with a mix of double and triple cropping cycles.For this demonstration, we have assumed a triple cropping (3 cycles per year) for all the data points, but you are free to explore the impact of cropping cycles on the yield.You will have to map every data point with its corresponding crop cycle.\n",
    "The crop cycles are Winter-Spring ( November – April) and the Summer-Autumn (April – August). E.g., the harvest date for the first entry is 15th July 2022. The corresponding crop cycle will be Summer-Autumn (April – August). \n",
    "\n",
    "The data consists of geo locations (Latitude and Longitude), District, Season, Rice Crop Intensity, Date of Harvest, Field Size (in Hectares) with the yield in each geo location."
   ]
  },
  {
   "cell_type": "code",
   "execution_count": 3,
   "id": "dbc540b6-319d-4ba4-b699-e96264de6855",
   "metadata": {
    "pycharm": {
     "name": "#%%\n"
    }
   },
   "outputs": [
    {
     "data": {
      "text/html": [
       "<div>\n",
       "<style scoped>\n",
       "    .dataframe tbody tr th:only-of-type {\n",
       "        vertical-align: middle;\n",
       "    }\n",
       "\n",
       "    .dataframe tbody tr th {\n",
       "        vertical-align: top;\n",
       "    }\n",
       "\n",
       "    .dataframe thead th {\n",
       "        text-align: right;\n",
       "    }\n",
       "</style>\n",
       "<table border=\"1\" class=\"dataframe\">\n",
       "  <thead>\n",
       "    <tr style=\"text-align: right;\">\n",
       "      <th></th>\n",
       "      <th>District</th>\n",
       "      <th>Latitude</th>\n",
       "      <th>Longitude</th>\n",
       "      <th>Season(SA = Summer Autumn, WS = Winter Spring)</th>\n",
       "      <th>Rice Crop Intensity(D=Double, T=Triple)</th>\n",
       "      <th>Date of Harvest</th>\n",
       "      <th>Field size (ha)</th>\n",
       "      <th>Rice Yield (kg/ha)</th>\n",
       "    </tr>\n",
       "  </thead>\n",
       "  <tbody>\n",
       "    <tr>\n",
       "      <th>0</th>\n",
       "      <td>Chau_Phu</td>\n",
       "      <td>10.510542</td>\n",
       "      <td>105.248554</td>\n",
       "      <td>SA</td>\n",
       "      <td>T</td>\n",
       "      <td>15-07-2022</td>\n",
       "      <td>3.40</td>\n",
       "      <td>5500</td>\n",
       "    </tr>\n",
       "    <tr>\n",
       "      <th>1</th>\n",
       "      <td>Chau_Phu</td>\n",
       "      <td>10.509150</td>\n",
       "      <td>105.265098</td>\n",
       "      <td>SA</td>\n",
       "      <td>T</td>\n",
       "      <td>15-07-2022</td>\n",
       "      <td>2.43</td>\n",
       "      <td>6000</td>\n",
       "    </tr>\n",
       "    <tr>\n",
       "      <th>2</th>\n",
       "      <td>Chau_Phu</td>\n",
       "      <td>10.467721</td>\n",
       "      <td>105.192464</td>\n",
       "      <td>SA</td>\n",
       "      <td>D</td>\n",
       "      <td>15-07-2022</td>\n",
       "      <td>1.95</td>\n",
       "      <td>6400</td>\n",
       "    </tr>\n",
       "    <tr>\n",
       "      <th>3</th>\n",
       "      <td>Chau_Phu</td>\n",
       "      <td>10.494453</td>\n",
       "      <td>105.241281</td>\n",
       "      <td>SA</td>\n",
       "      <td>T</td>\n",
       "      <td>15-07-2022</td>\n",
       "      <td>4.30</td>\n",
       "      <td>6000</td>\n",
       "    </tr>\n",
       "    <tr>\n",
       "      <th>4</th>\n",
       "      <td>Chau_Phu</td>\n",
       "      <td>10.535058</td>\n",
       "      <td>105.252744</td>\n",
       "      <td>SA</td>\n",
       "      <td>D</td>\n",
       "      <td>14-07-2022</td>\n",
       "      <td>3.30</td>\n",
       "      <td>6400</td>\n",
       "    </tr>\n",
       "  </tbody>\n",
       "</table>\n",
       "</div>"
      ],
      "text/plain": [
       "   District   Latitude   Longitude  \\\n",
       "0  Chau_Phu  10.510542  105.248554   \n",
       "1  Chau_Phu  10.509150  105.265098   \n",
       "2  Chau_Phu  10.467721  105.192464   \n",
       "3  Chau_Phu  10.494453  105.241281   \n",
       "4  Chau_Phu  10.535058  105.252744   \n",
       "\n",
       "  Season(SA = Summer Autumn, WS = Winter Spring)  \\\n",
       "0                                             SA   \n",
       "1                                             SA   \n",
       "2                                             SA   \n",
       "3                                             SA   \n",
       "4                                             SA   \n",
       "\n",
       "  Rice Crop Intensity(D=Double, T=Triple) Date of Harvest  Field size (ha)  \\\n",
       "0                                       T      15-07-2022             3.40   \n",
       "1                                       T      15-07-2022             2.43   \n",
       "2                                       D      15-07-2022             1.95   \n",
       "3                                       T      15-07-2022             4.30   \n",
       "4                                       D      14-07-2022             3.30   \n",
       "\n",
       "   Rice Yield (kg/ha)  \n",
       "0                5500  \n",
       "1                6000  \n",
       "2                6400  \n",
       "3                6000  \n",
       "4                6400  "
      ]
     },
     "execution_count": 3,
     "metadata": {},
     "output_type": "execute_result"
    }
   ],
   "source": [
    "crop_yield_data = pd.read_csv(\"Crop_Yield_Data_challenge_2.csv\")\n",
    "crop_yield_data.head()"
   ]
  },
  {
   "cell_type": "markdown",
   "id": "bccc0c2e-e01e-4619-a8fa-50090cdb18f0",
   "metadata": {
    "pycharm": {
     "name": "#%% md\n"
    }
   },
   "source": [
    "## Predictor Variables"
   ]
  },
  {
   "cell_type": "markdown",
   "id": "1874a6dd-ffa2-4fb6-baa2-49d8dc7a92c2",
   "metadata": {
    "pycharm": {
     "name": "#%% md\n"
    }
   },
   "source": [
    "<p align =\"justify\">Now that we have our crop yield data, it is time to gather and generate the predictor variables from the Sentinel-1 dataset. For a more in-depth look regarding the Sentinel-1 dataset and how to query it, see the Sentinel-1 <a href=\"https://challenge.ey.com/api/v1/storage/admin-files/6403146221623637-63ca8d537b1fe300146c79d0-Sentinel%201%20Phenology.ipynb/\"> supplementary \n",
    "notebook</a>.\n",
    "\n",
    "   \n",
    "\n",
    "<p align = \"justify\">Sentinel-1 radar data penetrates through the clouds, thus helping us to get the band values with minimal atmospheric attenuation. Here we are generating timeseries band values over a period of four months.</p>\n",
    "\n",
    "<p align = \"justify\">\n",
    "A time series data is made up of data points that are collected at regular intervals and are dependent on one another. Many of the tasks involved in data modelling depend heavily on feature engineering. This is only a technique that identifies key aspects of the data that a model might use to improve performance. Because time series modelling uses sequential data that is produced by changes in any value over time, feature engineering operates differently in this context. Creation of statistical features using time series data is one of the feature engineering techniques. Here, we create statistical features using the band values (VV and VH) and the mathematical combination of band values (VV/VH) from Sentinel-1 dataset that aid in predicting the rice yield.\n",
    "</p>\n",
    "<ul>\n",
    "<li>VV - gamma naught values of signal transmitted with vertical polarization and received with vertical polarization with radiometric terrain correction applied.\n",
    "\n",
    "<li>VH - gamma naught values of signal transmitted with vertical polarization and received with horizontal polarization with radiometric terrain correction applied.\n",
    "       \n",
    "</ul>\n",
    "\n",
    "    \n",
    "<p align = \"justify\"><b> Note : Any model utilizing “season” as predictor will be ruled invalid. Examples of seasons include Winter Spring, Summer Autumn etc. But you can use season information to extract the satellite data.</b></p> "
   ]
  },
  {
   "cell_type": "markdown",
   "id": "3595690b-c081-4830-bd4f-75c1cdfd9db8",
   "metadata": {
    "pycharm": {
     "name": "#%% md\n"
    }
   },
   "source": [
    "<h4 style=\"color:rgb(195, 52, 235)\"><strong>Tip 1</strong></h4>\n",
    "<p align=\"justify\">Participants can consider the use of optical data from Sentinel-2 and Landsat. All of these datasets are readily available from the <a href=\"https://planetarycomputer.microsoft.com/\"> Microsoft Planetary Computer</a>. Participants can choose one or more of these satellite datasets for their solution. Sentinel-1 radar data penetrates through the clouds, thus helping us to get the band values with minimal atmospheric attenuation, whereas the data from the Sentinel-2 and Landsat data may contain attenuation due to the presence of cloud.</p>\n",
    "\n",
    "<p align=\"justify\"> Participants should also note that Sentinel-1 provides a consistent 12 day revist whereas the optical data may be missing due to extreme cloud cover for an entire scene or particular pixels having cloud contanimation. Please refer the sample notebooks provided for <a href=\"https://challenge.ey.com/api/v1/storage/admin-files/6403146221623637-63ca8d537b1fe300146c79d0-Sentinel%201%20Phenology.ipynb\">Sentinel-1</a>, <a href=\"https://challenge.ey.com/api/v1/storage/admin-files/200864767105553-63ca8c57aea56e00146e319c-Sentinel%202%20cloud%20filtering.ipynb\">Sentinel-2</a> and <a href=\"https://challenge.ey.com/api/v1/storage/admin-files/36808312288709755-63ca8ccb7b1fe300146c7917-Landsat%20cloud%20filtering.ipynb\">Landsat</a> to get more details about filtering and using these datasets.</p>"
   ]
  },
  {
   "cell_type": "markdown",
   "id": "6c183b18-7998-47ff-9bd4-c4d655b52eb0",
   "metadata": {
    "pycharm": {
     "name": "#%% md\n"
    }
   },
   "source": [
    "<h4 style=\"color:rgb(195, 52, 235)\"><strong>Tip 2</strong></h4>\n",
    "<p align=\"justify\">Participants might explore other combinations of bands from the Sentinel-1 data or from other satellites. For example, you can use mathematical combinations of bands to generate various <a href=\"https://challenge.ey.com/api/v1/storage/admin-files/3868217534768359-63ca8dc8aea56e00146e3489-Comprehensive%20Guide%20-%20Satellite%20Data.docx\">vegetation indices </a> which can then be used as features in your model.\n"
   ]
  },
  {
   "cell_type": "markdown",
   "id": "07a4af24-5841-436d-ae3b-c3fd7c0bea45",
   "metadata": {
    "pycharm": {
     "name": "#%% md\n"
    }
   },
   "source": [
    "<h4 style=\"color:rgb(195, 52, 235)\"><strong>Tip 3</strong></h4>\n",
    "<p align =\"justify\"> Participants are suggested to choose the time of interest based on the phenology curves and comprehend the patterns of the rice cycle rather than just choosing the first and last day of the season.</p>"
   ]
  },
  {
   "cell_type": "markdown",
   "id": "ad2fc63b-34b0-429d-8026-6297e2fc2728",
   "metadata": {
    "pycharm": {
     "name": "#%% md\n"
    }
   },
   "source": [
    "### Accessing the Sentinel-1 Data"
   ]
  },
  {
   "cell_type": "markdown",
   "id": "a43ef3c7-5738-45a6-acd0-dc3083b27eda",
   "metadata": {
    "pycharm": {
     "name": "#%% md\n"
    }
   },
   "source": [
    "<p align = \"Justify\">To get the Sentinel-1 data, we write a function called <i><b>get_sentinel_data.</b></i> This function will fetch VV, VH band values and VV/VH values for a particular location over the specified time window. In this example, we have taken the VV, VH, and VV/VH values for 4 months in each season.</p>"
   ]
  },
  {
   "cell_type": "code",
   "execution_count": 4,
   "id": "8e0d09d7-49f6-4e1c-9fd4-873a577a33c4",
   "metadata": {
    "pycharm": {
     "name": "#%%\n"
    }
   },
   "outputs": [],
   "source": [
    "def get_sentinel_data(longitude, latitude, season,assests):\n",
    "    \n",
    "    '''\n",
    "    Returns a list of VV,VH, VV/VH values for a given latitude and longitude over a given time period (based on the season)\n",
    "    Attributes:\n",
    "    longitude - Longitude\n",
    "    latitude - Latitude\n",
    "    season - The season for which band values need to be extracted.\n",
    "    assets - A list of bands to be extracted\n",
    "    \n",
    "    '''\n",
    "    \n",
    "    bands_of_interest = assests\n",
    "    if season == 'SA':\n",
    "        time_slice = \"2022-04-01/2022-08-31\"\n",
    "    if season == 'WS':\n",
    "        time_slice = \"2021-11-01/2022-04-30\"\n",
    "        \n",
    "    vv_list = []\n",
    "    vh_list = []\n",
    "    vv_by_vh_list = []\n",
    "    box_size_deg = 0.0004 # Roughly a 5x5 box\n",
    "    \n",
    "    bbox_of_interest = [longitude-box_size_deg/2 , latitude-box_size_deg/2, longitude+box_size_deg/2, latitude+box_size_deg/2]\n",
    "    time_of_interest = time_slice\n",
    "    \n",
    "    catalog = pystac_client.Client.open(\"https://planetarycomputer.microsoft.com/api/stac/v1\")\n",
    "    search = catalog.search(collections=[\"sentinel-1-rtc\"], bbox=bbox_of_interest, datetime=time_of_interest)\n",
    "    items = list(search.get_all_items())\n",
    "    item = items[0]\n",
    "    items.reverse()\n",
    "    \n",
    "    data = stac_load([items[1]],bands=bands_of_interest, patch_url=pc.sign, bbox=bbox_of_interest).isel(time=0)\n",
    "\n",
    "    for item in items:\n",
    "        data = stac_load([item], bands=bands_of_interest, patch_url=pc.sign, bbox=bbox_of_interest).isel(time=0)\n",
    "        if(data['vh'].values[0][0]!=-32768.0 and data['vv'].values[0][0]!=-32768.0):\n",
    "            data = data.where(~data.isnull(), 0)\n",
    "            vh = data[\"vh\"].astype(\"float64\")\n",
    "            vv = data[\"vv\"].astype(\"float64\")\n",
    "            vv_list.append(np.median(vv))\n",
    "            vh_list.append(np.median(vh))\n",
    "            vv_by_vh_list.append(np.median(vv)/np.median(vh))\n",
    "              \n",
    "    return vv_list, vh_list, vv_by_vh_list"
   ]
  },
  {
   "cell_type": "markdown",
   "id": "b445abb2-735c-4fa7-b62d-c31e974e3027",
   "metadata": {
    "pycharm": {
     "name": "#%% md\n"
    }
   },
   "source": [
    "<h4 style=\"color:rgb(195, 52, 235)\"><strong>Tip 4 </strong></h4>"
   ]
  },
  {
   "cell_type": "markdown",
   "id": "a314a629-a686-4f81-b191-483c4111bd63",
   "metadata": {
    "pycharm": {
     "name": "#%% md\n"
    }
   },
   "source": [
    "Explore the approach of building a bounding box (e.g., 5x5 pixels) around the given latitude and longitude positions and then extract the aggregated band values (e.g., mean, median) to get normalized band values to build the model. Radar data has inherent variability at the pixel level due to variable scattering response from the target. This effect is called “speckle” and it is common to filter the data to smooth these variations. Try using a 3x3, 5x5 or 7x7 window around the specific latitude and longitude point to get improved results."
   ]
  },
  {
   "cell_type": "code",
   "execution_count": 5,
   "id": "a827365a-01ed-41f8-9973-6480e4402b9f",
   "metadata": {
    "tags": [],
    "pycharm": {
     "name": "#%%\n"
    }
   },
   "outputs": [
    {
     "data": {
      "application/vnd.jupyter.widget-view+json": {
       "model_id": "d9e35f77759a41469f012dd2f028ed59",
       "version_major": 2,
       "version_minor": 0
      },
      "text/plain": [
       "  0%|          | 0/557 [00:00<?, ?it/s]"
      ]
     },
     "metadata": {},
     "output_type": "display_data"
    }
   ],
   "source": [
    "## Get Sentinel-1-RTC Data\n",
    "assests = ['vh','vv']\n",
    "train_band_values=crop_yield_data.progress_apply(lambda x: get_sentinel_data(x['Longitude'], x['Latitude'],x['Season(SA = Summer Autumn, WS = Winter Spring)'],assests), axis=1)\n",
    "vh = [x[0] for x in train_band_values]\n",
    "vv = [x[1] for x in train_band_values]\n",
    "vv_by_vh = [x[2] for x in train_band_values]\n",
    "vh_vv_data = pd.DataFrame(list(zip(vh,vv,vv_by_vh)),columns = [\"vv_list\",\"vh_list\",\"vv/vh_list\"])"
   ]
  },
  {
   "cell_type": "markdown",
   "id": "e00290dd-867c-4122-80b8-7bed57d5f851",
   "metadata": {
    "pycharm": {
     "name": "#%% md\n"
    }
   },
   "source": [
    "### make RVI values"
   ]
  },
  {
   "cell_type": "code",
   "execution_count": 6,
   "id": "43ed4a3e-1c77-42cb-9a3f-cb9bafb0085d",
   "metadata": {
    "pycharm": {
     "name": "#%%\n"
    }
   },
   "outputs": [],
   "source": [
    "# get numpy type for vh_vv_data columns\n",
    "for column in vh_vv_data.columns:\n",
    "    vh_vv_data[f\"{column}\"] = vh_vv_data[f\"{column}\"].apply(lambda x: np.array(x))"
   ]
  },
  {
   "cell_type": "code",
   "execution_count": 7,
   "id": "5496cea7-991d-48ee-9491-867a785e6bae",
   "metadata": {
    "pycharm": {
     "name": "#%%\n"
    }
   },
   "outputs": [
    {
     "data": {
      "text/plain": [
       "numpy.ndarray"
      ]
     },
     "execution_count": 7,
     "metadata": {},
     "output_type": "execute_result"
    }
   ],
   "source": [
    "type(vh_vv_data[\"vv_list\"].iloc[0])"
   ]
  },
  {
   "cell_type": "code",
   "execution_count": 8,
   "id": "839e21a3-c87f-4f18-9a9b-4c4f8797b996",
   "metadata": {
    "pycharm": {
     "name": "#%%\n"
    }
   },
   "outputs": [
    {
     "data": {
      "text/plain": [
       "0      [0.7696975281838946, 0.7893432321935506, 0.815...\n",
       "1      [0.6769057965785871, 0.7904732161310921, 0.774...\n",
       "2      [0.6857441601574351, 0.8488099816855253, 0.881...\n",
       "3      [0.7560902465577558, 0.8043657298072582, 0.798...\n",
       "4      [0.8295006682588663, 0.7501073863706812, 0.840...\n",
       "                             ...                        \n",
       "552    [0.6606521243577514, 0.6965607489473209, 0.796...\n",
       "553    [0.7577259663018865, 0.7552505360273107, 0.825...\n",
       "554    [0.7249316835419888, 0.6904997857276179, 0.760...\n",
       "555    [0.8314450043847302, 0.8500573824112121, 0.764...\n",
       "556    [0.7469960354010077, 0.7361820961047356, 0.684...\n",
       "Length: 557, dtype: object"
      ]
     },
     "execution_count": 8,
     "metadata": {},
     "output_type": "execute_result"
    }
   ],
   "source": [
    "# Apply rvi equation\n",
    "rvi = (vh_vv_data[\"vv_list\"] / (vh_vv_data[\"vv_list\"] + vh_vv_data[\"vh_list\"]))\n",
    "rvi"
   ]
  },
  {
   "cell_type": "code",
   "execution_count": 9,
   "id": "702e2689-1b65-435b-a472-c4e668a22b6e",
   "metadata": {
    "pycharm": {
     "name": "#%%\n"
    }
   },
   "outputs": [
    {
     "data": {
      "text/html": [
       "<div>\n",
       "<style scoped>\n",
       "    .dataframe tbody tr th:only-of-type {\n",
       "        vertical-align: middle;\n",
       "    }\n",
       "\n",
       "    .dataframe tbody tr th {\n",
       "        vertical-align: top;\n",
       "    }\n",
       "\n",
       "    .dataframe thead th {\n",
       "        text-align: right;\n",
       "    }\n",
       "</style>\n",
       "<table border=\"1\" class=\"dataframe\">\n",
       "  <thead>\n",
       "    <tr style=\"text-align: right;\">\n",
       "      <th></th>\n",
       "      <th>vv_list</th>\n",
       "      <th>vh_list</th>\n",
       "      <th>vv/vh_list</th>\n",
       "    </tr>\n",
       "  </thead>\n",
       "  <tbody>\n",
       "    <tr>\n",
       "      <th>0</th>\n",
       "      <td>[0.09954774752259254, 0.08401663228869438, 0.1...</td>\n",
       "      <td>[0.02978584636002779, 0.022422023117542267, 0....</td>\n",
       "      <td>[3.3421157928278413, 3.7470584990594573, 4.423...</td>\n",
       "    </tr>\n",
       "    <tr>\n",
       "      <th>1</th>\n",
       "      <td>[0.19749100506305695, 0.35797280073165894, 0.1...</td>\n",
       "      <td>[0.09426451846957207, 0.09488606080412865, 0.0...</td>\n",
       "      <td>[2.0950725497717966, 3.7726595213032907, 3.438...</td>\n",
       "    </tr>\n",
       "    <tr>\n",
       "      <th>2</th>\n",
       "      <td>[0.12284766882658005, 0.4100976586341858, 0.11...</td>\n",
       "      <td>[0.05629737675189972, 0.07304658740758896, 0.0...</td>\n",
       "      <td>[2.1821206584449717, 5.614193259240197, 7.4698...</td>\n",
       "    </tr>\n",
       "    <tr>\n",
       "      <th>3</th>\n",
       "      <td>[0.2224932610988617, 0.21723537147045135, 0.02...</td>\n",
       "      <td>[0.07177486643195152, 0.052835024893283844, 0....</td>\n",
       "      <td>[3.0998770483230866, 4.1115788609776045, 3.952...</td>\n",
       "    </tr>\n",
       "    <tr>\n",
       "      <th>4</th>\n",
       "      <td>[0.10600291192531586, 0.07966845482587814, 0.0...</td>\n",
       "      <td>[0.02178831957280636, 0.02654094435274601, 0.0...</td>\n",
       "      <td>[4.865125627109689, 3.001718920285344, 5.25312...</td>\n",
       "    </tr>\n",
       "  </tbody>\n",
       "</table>\n",
       "</div>"
      ],
      "text/plain": [
       "                                             vv_list  \\\n",
       "0  [0.09954774752259254, 0.08401663228869438, 0.1...   \n",
       "1  [0.19749100506305695, 0.35797280073165894, 0.1...   \n",
       "2  [0.12284766882658005, 0.4100976586341858, 0.11...   \n",
       "3  [0.2224932610988617, 0.21723537147045135, 0.02...   \n",
       "4  [0.10600291192531586, 0.07966845482587814, 0.0...   \n",
       "\n",
       "                                             vh_list  \\\n",
       "0  [0.02978584636002779, 0.022422023117542267, 0....   \n",
       "1  [0.09426451846957207, 0.09488606080412865, 0.0...   \n",
       "2  [0.05629737675189972, 0.07304658740758896, 0.0...   \n",
       "3  [0.07177486643195152, 0.052835024893283844, 0....   \n",
       "4  [0.02178831957280636, 0.02654094435274601, 0.0...   \n",
       "\n",
       "                                          vv/vh_list  \n",
       "0  [3.3421157928278413, 3.7470584990594573, 4.423...  \n",
       "1  [2.0950725497717966, 3.7726595213032907, 3.438...  \n",
       "2  [2.1821206584449717, 5.614193259240197, 7.4698...  \n",
       "3  [3.0998770483230866, 4.1115788609776045, 3.952...  \n",
       "4  [4.865125627109689, 3.001718920285344, 5.25312...  "
      ]
     },
     "execution_count": 9,
     "metadata": {},
     "output_type": "execute_result"
    }
   ],
   "source": [
    "vh_vv_data.head()"
   ]
  },
  {
   "cell_type": "code",
   "execution_count": 10,
   "id": "26f690e9-8456-4cc2-af9f-2a73182af300",
   "metadata": {
    "pycharm": {
     "name": "#%%\n"
    }
   },
   "outputs": [],
   "source": [
    "vh_vv_data[\"rvi_list\"] = rvi"
   ]
  },
  {
   "cell_type": "code",
   "execution_count": 11,
   "id": "524bd89b-19a5-4edf-a91d-189607e0ca9a",
   "metadata": {
    "pycharm": {
     "name": "#%%\n"
    }
   },
   "outputs": [
    {
     "data": {
      "text/html": [
       "<div>\n",
       "<style scoped>\n",
       "    .dataframe tbody tr th:only-of-type {\n",
       "        vertical-align: middle;\n",
       "    }\n",
       "\n",
       "    .dataframe tbody tr th {\n",
       "        vertical-align: top;\n",
       "    }\n",
       "\n",
       "    .dataframe thead th {\n",
       "        text-align: right;\n",
       "    }\n",
       "</style>\n",
       "<table border=\"1\" class=\"dataframe\">\n",
       "  <thead>\n",
       "    <tr style=\"text-align: right;\">\n",
       "      <th></th>\n",
       "      <th>vv_list</th>\n",
       "      <th>vh_list</th>\n",
       "      <th>vv/vh_list</th>\n",
       "      <th>rvi_list</th>\n",
       "    </tr>\n",
       "  </thead>\n",
       "  <tbody>\n",
       "    <tr>\n",
       "      <th>0</th>\n",
       "      <td>[0.09954774752259254, 0.08401663228869438, 0.1...</td>\n",
       "      <td>[0.02978584636002779, 0.022422023117542267, 0....</td>\n",
       "      <td>[3.3421157928278413, 3.7470584990594573, 4.423...</td>\n",
       "      <td>[0.7696975281838946, 0.7893432321935506, 0.815...</td>\n",
       "    </tr>\n",
       "    <tr>\n",
       "      <th>1</th>\n",
       "      <td>[0.19749100506305695, 0.35797280073165894, 0.1...</td>\n",
       "      <td>[0.09426451846957207, 0.09488606080412865, 0.0...</td>\n",
       "      <td>[2.0950725497717966, 3.7726595213032907, 3.438...</td>\n",
       "      <td>[0.6769057965785871, 0.7904732161310921, 0.774...</td>\n",
       "    </tr>\n",
       "    <tr>\n",
       "      <th>2</th>\n",
       "      <td>[0.12284766882658005, 0.4100976586341858, 0.11...</td>\n",
       "      <td>[0.05629737675189972, 0.07304658740758896, 0.0...</td>\n",
       "      <td>[2.1821206584449717, 5.614193259240197, 7.4698...</td>\n",
       "      <td>[0.6857441601574351, 0.8488099816855253, 0.881...</td>\n",
       "    </tr>\n",
       "    <tr>\n",
       "      <th>3</th>\n",
       "      <td>[0.2224932610988617, 0.21723537147045135, 0.02...</td>\n",
       "      <td>[0.07177486643195152, 0.052835024893283844, 0....</td>\n",
       "      <td>[3.0998770483230866, 4.1115788609776045, 3.952...</td>\n",
       "      <td>[0.7560902465577558, 0.8043657298072582, 0.798...</td>\n",
       "    </tr>\n",
       "    <tr>\n",
       "      <th>4</th>\n",
       "      <td>[0.10600291192531586, 0.07966845482587814, 0.0...</td>\n",
       "      <td>[0.02178831957280636, 0.02654094435274601, 0.0...</td>\n",
       "      <td>[4.865125627109689, 3.001718920285344, 5.25312...</td>\n",
       "      <td>[0.8295006682588663, 0.7501073863706812, 0.840...</td>\n",
       "    </tr>\n",
       "  </tbody>\n",
       "</table>\n",
       "</div>"
      ],
      "text/plain": [
       "                                             vv_list  \\\n",
       "0  [0.09954774752259254, 0.08401663228869438, 0.1...   \n",
       "1  [0.19749100506305695, 0.35797280073165894, 0.1...   \n",
       "2  [0.12284766882658005, 0.4100976586341858, 0.11...   \n",
       "3  [0.2224932610988617, 0.21723537147045135, 0.02...   \n",
       "4  [0.10600291192531586, 0.07966845482587814, 0.0...   \n",
       "\n",
       "                                             vh_list  \\\n",
       "0  [0.02978584636002779, 0.022422023117542267, 0....   \n",
       "1  [0.09426451846957207, 0.09488606080412865, 0.0...   \n",
       "2  [0.05629737675189972, 0.07304658740758896, 0.0...   \n",
       "3  [0.07177486643195152, 0.052835024893283844, 0....   \n",
       "4  [0.02178831957280636, 0.02654094435274601, 0.0...   \n",
       "\n",
       "                                          vv/vh_list  \\\n",
       "0  [3.3421157928278413, 3.7470584990594573, 4.423...   \n",
       "1  [2.0950725497717966, 3.7726595213032907, 3.438...   \n",
       "2  [2.1821206584449717, 5.614193259240197, 7.4698...   \n",
       "3  [3.0998770483230866, 4.1115788609776045, 3.952...   \n",
       "4  [4.865125627109689, 3.001718920285344, 5.25312...   \n",
       "\n",
       "                                            rvi_list  \n",
       "0  [0.7696975281838946, 0.7893432321935506, 0.815...  \n",
       "1  [0.6769057965785871, 0.7904732161310921, 0.774...  \n",
       "2  [0.6857441601574351, 0.8488099816855253, 0.881...  \n",
       "3  [0.7560902465577558, 0.8043657298072582, 0.798...  \n",
       "4  [0.8295006682588663, 0.7501073863706812, 0.840...  "
      ]
     },
     "execution_count": 11,
     "metadata": {},
     "output_type": "execute_result"
    }
   ],
   "source": [
    "vh_vv_data.head()"
   ]
  },
  {
   "cell_type": "markdown",
   "id": "ac658fb3-599f-42ab-ab90-62881b71a6b1",
   "metadata": {
    "pycharm": {
     "name": "#%% md\n"
    }
   },
   "source": [
    "### Feature Engineering\n",
    "Feature engineering, in simple terms, is the act of converting raw observations into desired features using statistical or machine learning approaches. Feature engineering refers to the process of designing artificial features into an algorithm. These artificial features are then used by that algorithm in order to improve its performance, or in other words reap better results. \n",
    "#### Creating some statistical features from the band values"
   ]
  },
  {
   "cell_type": "markdown",
   "id": "cc7b8fe8-9d0f-4d4a-b93a-95ec05ccd45d",
   "metadata": {
    "pycharm": {
     "name": "#%% md\n"
    }
   },
   "source": [
    "Now let us generate few statistical features. Here we generate 6 features for VV, VH and VV/VH. The six statistical features are:\n",
    "<ul>\n",
    "    <li>Minimum</li>\n",
    "    <li>Maximum</li>\n",
    "    <li>Range</li>\n",
    "    <li>Mean</li> \n",
    "    <li>Auto Correlation</li>\n",
    "    <li>Permutation Entropy</li>\n",
    "</ul>\n",
    "\n",
    "<p align=\"justify\">\n",
    "Auto Correlation - Autocorrelation represents the degree of similarity between a given time series and a lagged version of itself over successive time intervals. Autocorrelation measures the relationship between a variable's current value and its past values.\n",
    "</p>\n",
    "\n",
    "<p align=\"justify\">\n",
    "Permutation Entropy - Permutation Entropy (PE) is a robust time series tool which provides a quantification measure of the complexity of a dynamic system by capturing the order relations between values of a time series and extracting a probability distribution of the ordinal patterns.\n",
    "</p>\n",
    "<p>You are encouraged to identify possible time series metrices that can be used as features.</p>"
   ]
  },
  {
   "cell_type": "markdown",
   "id": "67d0a846-c527-4cc4-a277-03ffa558f5f9",
   "metadata": {
    "pycharm": {
     "name": "#%% md\n"
    }
   },
   "source": [
    "<h4 style=\"color:rgb(195, 52, 235)\"><strong>Tip 5 </strong></h4>\n",
    "Participants can generate other statistical features which are statiscally significant to understand characterstics of rice phenology. There are existing packages available which can generate some of these metrics for you."
   ]
  },
  {
   "cell_type": "code",
   "execution_count": 12,
   "id": "09f8fae7-2601-4fa1-8406-0ad6791a1c05",
   "metadata": {
    "pycharm": {
     "name": "#%%\n"
    }
   },
   "outputs": [],
   "source": [
    "def ordinal_distribution(data, dx=3, dy=1, taux=1, tauy=1, return_missing=False, tie_precision=None):\n",
    "    '''\n",
    "    Returns\n",
    "    -------\n",
    "     : tuple\n",
    "       Tuple containing two arrays, one with the ordinal patterns occurring in data \n",
    "       and another with their corresponding probabilities.\n",
    "       \n",
    "    Attributes\n",
    "    ---------\n",
    "    data : array \n",
    "           Array object in the format :math:`[x_{1}, x_{2}, x_{3}, \\\\ldots ,x_{n}]`\n",
    "           or  :math:`[[x_{11}, x_{12}, x_{13}, \\\\ldots, x_{1m}],\n",
    "           \\\\ldots, [x_{n1}, x_{n2}, x_{n3}, \\\\ldots, x_{nm}]]`.\n",
    "    dx : int\n",
    "         Embedding dimension (horizontal axis) (default: 3).\n",
    "    dy : int\n",
    "         Embedding dimension (vertical axis); it must be 1 for time series \n",
    "         (default: 1).\n",
    "    taux : int\n",
    "           Embedding delay (horizontal axis) (default: 1).\n",
    "    tauy : int\n",
    "           Embedding delay (vertical axis) (default: 1).\n",
    "    return_missing: boolean\n",
    "                    If `True`, it returns ordinal patterns not appearing in the \n",
    "                    symbolic sequence obtained from **data** are shown. If `False`,\n",
    "                    these missing patterns (permutations) are omitted \n",
    "                    (default: `False`).\n",
    "    tie_precision : int\n",
    "                    If not `None`, **data** is rounded with `tie_precision`\n",
    "                    number of decimals (default: `None`).\n",
    "   \n",
    "    '''\n",
    "    def setdiff(a, b):\n",
    "        '''\n",
    "        Returns\n",
    "        -------\n",
    "        : array\n",
    "            An array containing the elements in `a` that are not contained in `b`.\n",
    "            \n",
    "        Parameters\n",
    "        ----------    \n",
    "        a : tuples, lists or arrays\n",
    "            Array in the format :math:`[[x_{21}, x_{22}, x_{23}, \\\\ldots, x_{2m}], \n",
    "            \\\\ldots, [x_{n1}, x_{n2}, x_{n3}, ..., x_{nm}]]`.\n",
    "        b : tuples, lists or arrays\n",
    "            Array in the format :math:`[[x_{21}, x_{22}, x_{23}, \\\\ldots, x_{2m}], \n",
    "            \\\\ldots, [x_{n1}, x_{n2}, x_{n3}, ..., x_{nm}]]`.\n",
    "        '''\n",
    "\n",
    "        a = np.asarray(a).astype('int64')\n",
    "        b = np.asarray(b).astype('int64')\n",
    "\n",
    "        _, ncols = a.shape\n",
    "\n",
    "        dtype={'names':['f{}'.format(i) for i in range(ncols)],\n",
    "            'formats':ncols * [a.dtype]}\n",
    "\n",
    "        C = np.setdiff1d(a.view(dtype), b.view(dtype))\n",
    "        C = C.view(a.dtype).reshape(-1, ncols)\n",
    "\n",
    "        return(C)\n",
    "\n",
    "    try:\n",
    "        ny, nx = np.shape(data)\n",
    "        data   = np.array(data)\n",
    "    except:\n",
    "        nx     = np.shape(data)[0]\n",
    "        ny     = 1\n",
    "        data   = np.array([data])\n",
    "\n",
    "    if tie_precision is not None:\n",
    "        data = np.round(data, tie_precision)\n",
    "\n",
    "    partitions = np.concatenate(\n",
    "        [\n",
    "            [np.concatenate(data[j:j+dy*tauy:tauy,i:i+dx*taux:taux]) for i in range(nx-(dx-1)*taux)] \n",
    "            for j in range(ny-(dy-1)*tauy)\n",
    "        ]\n",
    "    )\n",
    "\n",
    "    symbols = np.apply_along_axis(np.argsort, 1, partitions)\n",
    "    symbols, symbols_count = np.unique(symbols, return_counts=True, axis=0)\n",
    "\n",
    "    probabilities = symbols_count/len(partitions)\n",
    "\n",
    "    if return_missing==False:\n",
    "        return symbols, probabilities\n",
    "    \n",
    "    else:\n",
    "        all_symbols   = list(map(list,list(itertools.permutations(np.arange(dx*dy)))))\n",
    "        miss_symbols  = setdiff(all_symbols, symbols)\n",
    "        symbols       = np.concatenate((symbols, miss_symbols))\n",
    "        probabilities = np.concatenate((probabilities, np.zeros(miss_symbols.__len__())))\n",
    "        \n",
    "        return symbols, probabilities"
   ]
  },
  {
   "cell_type": "code",
   "execution_count": 13,
   "id": "7a48edd2-eec1-4914-b6e7-9c179fe9fb8f",
   "metadata": {
    "pycharm": {
     "name": "#%%\n"
    }
   },
   "outputs": [],
   "source": [
    "def permutation_entropy(data, dx=3, dy=1, taux=1, tauy=1, base=2, normalized=True, probs=False, tie_precision=None):\n",
    "    '''\n",
    "    Returns Permutation Entropy\n",
    "    Attributes:\n",
    "    data : array\n",
    "           Array object in the format :math:`[x_{1}, x_{2}, x_{3}, \\\\ldots ,x_{n}]`\n",
    "           or  :math:`[[x_{11}, x_{12}, x_{13}, \\\\ldots, x_{1m}],\n",
    "           \\\\ldots, [x_{n1}, x_{n2}, x_{n3}, \\\\ldots, x_{nm}]]`\n",
    "           or an ordinal probability distribution (such as the ones returned by :func:`ordpy.ordinal_distribution`).\n",
    "    dx :   int\n",
    "           Embedding dimension (horizontal axis) (default: 3).\n",
    "    dy :   int\n",
    "           Embedding dimension (vertical axis); it must be 1 for time series (default: 1).\n",
    "    taux : int\n",
    "           Embedding delay (horizontal axis) (default: 1).\n",
    "    tauy : int\n",
    "           Embedding delay (vertical axis) (default: 1).\n",
    "    base : str, int\n",
    "           Logarithm base in Shannon's entropy. Either 'e' or 2 (default: 2).\n",
    "    normalized: boolean\n",
    "                If `True`, permutation entropy is normalized by its maximum value \n",
    "                (default: `True`). If `False`, it is not.\n",
    "    probs : boolean\n",
    "            If `True`, assumes **data** is an ordinal probability distribution. If \n",
    "            `False`, **data** is expected to be a one- or two-dimensional \n",
    "            array (default: `False`). \n",
    "    tie_precision : int\n",
    "                    If not `None`, **data** is rounded with `tie_precision`\n",
    "                    number of decimals (default: `None`).\n",
    "    '''\n",
    "    if not probs:\n",
    "        _, probabilities = ordinal_distribution(data, dx, dy, taux, tauy, return_missing=False, tie_precision=tie_precision)\n",
    "    else:\n",
    "        probabilities = np.asarray(data)\n",
    "        probabilities = probabilities[probabilities>0]\n",
    "\n",
    "    if normalized==True and base in [2, '2']:        \n",
    "        smax = np.log2(float(np.math.factorial(dx*dy)))\n",
    "        s    = -np.sum(probabilities*np.log2(probabilities))\n",
    "        return s/smax\n",
    "         \n",
    "    elif normalized==True and base=='e':        \n",
    "        smax = np.log(float(np.math.factorial(dx*dy)))\n",
    "        s    = -np.sum(probabilities*np.log(probabilities))\n",
    "        return s/smax\n",
    "    \n",
    "    elif normalized==False and base in [2, '2']:\n",
    "        return -np.sum(probabilities*np.log2(probabilities))\n",
    "    else:\n",
    "        return -np.sum(probabilities*np.log(probabilities))"
   ]
  },
  {
   "cell_type": "markdown",
   "id": "253d382f-cf44-4e44-ae39-43cfd20d1482",
   "metadata": {
    "pycharm": {
     "name": "#%% md\n"
    }
   },
   "source": [
    "### Making Our Own Features"
   ]
  },
  {
   "cell_type": "code",
   "execution_count": 14,
   "id": "f7d66020-889e-4ac7-8c4a-2607c186f3d4",
   "metadata": {
    "pycharm": {
     "name": "#%%\n"
    }
   },
   "outputs": [],
   "source": [
    "def generate_stastical_features(dataframe):\n",
    "    '''\n",
    "    Returns a  list of statistical features such as min,max,range,mean,auto-correlation,permutation entropy for each of the features\n",
    "    Attributes:\n",
    "    dataframe - DataFrame consisting of VV,VH and VV/VH for a time period\n",
    "    '''\n",
    "    features_list = []\n",
    "    for index, row in dataframe.iterrows():\n",
    "        min_vv = min(row[0])\n",
    "        max_vv = max(row[0])\n",
    "        range_vv = max_vv - min_vv\n",
    "        mean_vv = np.mean(row[0])\n",
    "        correlation_vv = sm.tsa.acf(row[0])[1]\n",
    "        permutation_entropy_vv = permutation_entropy(row[0], dx=6,base=2, normalized=True)\n",
    "        \n",
    "    \n",
    "        min_vh = min(row[1])\n",
    "        max_vh = max(row[1])\n",
    "        range_vh = max_vh - min_vh\n",
    "        mean_vh = np.mean(row[1])\n",
    "        correlation_vh = sm.tsa.acf(row[1])[1]\n",
    "        permutation_entropy_vh = permutation_entropy(row[1], dx=6, base=2, normalized=True)\n",
    "    \n",
    "        min_vv_by_vh = min(row[2])\n",
    "        max_vv_by_vh = max(row[2])\n",
    "        range_vv_by_vh = max_vv_by_vh - min_vv_by_vh\n",
    "        mean_vv_by_vh = np.mean(row[2])\n",
    "        correlation_vv_by_vh = sm.tsa.acf(row[2])[1]\n",
    "        permutation_entropy_vv_by_vh = permutation_entropy(row[2], dx=6, base=2, normalized=True)\n",
    "        \n",
    "        # rvi\n",
    "        min_rvi = min(row[3])\n",
    "        max_rvi = max(row[3])\n",
    "        range_rvi = max_rvi - min_rvi\n",
    "        mean_rvi = np.mean(row[3])\n",
    "        correlation_rvi = sm.tsa.acf(row[3])[1]\n",
    "        permutation_entropy_rvi = permutation_entropy(row[3], dx=6,base=2, normalized=True)\n",
    "        \n",
    "        \n",
    "        features_list.append([min_vv, max_vv, range_vv, mean_vv, correlation_vv, permutation_entropy_vv,\n",
    "                          min_vh, max_vh, range_vh,  mean_vh, correlation_vh, permutation_entropy_vh,\n",
    "                          min_vv_by_vh,  max_vv_by_vh, range_vv_by_vh, mean_vv_by_vh, correlation_vv_by_vh, permutation_entropy_vv_by_vh,\n",
    "                          min_rvi, max_rvi, range_rvi, mean_rvi, correlation_rvi, permutation_entropy_rvi])\n",
    "    return features_list"
   ]
  },
  {
   "cell_type": "markdown",
   "id": "7d37c7ec-0274-40d1-bc96-065cdab6e1ee",
   "metadata": {
    "pycharm": {
     "name": "#%% md\n"
    }
   },
   "source": [
    "### Normalizing the data and storing into Dataframe"
   ]
  },
  {
   "cell_type": "code",
   "execution_count": 15,
   "id": "a75de22f-dd97-4c13-92e6-0626aa4eee17",
   "metadata": {
    "pycharm": {
     "name": "#%%\n"
    }
   },
   "outputs": [],
   "source": [
    "features = generate_stastical_features(vh_vv_data)\n",
    "features_data = pd.DataFrame(features ,columns = ['min_vv', 'max_vv', 'range_vv', 'mean_vv', 'correlation_vv', 'permutation_entropy_vv',\n",
    "                        'min_vh', 'max_vh', 'range_vh', 'mean_vh', 'correlation_vh', 'permutation_entropy_vh',\n",
    "                        'min_vv_by_vh',  'max_vv_by_vh', 'range_vv_by_vh', 'mean_vv_by_vh', 'correlation_vv_by_vh', 'permutation_entropy_vv_by_vh',\n",
    "                        'min_rvi', 'max_rvi', 'range_rvi', 'mean_rvi','correlation_rvi', 'permutation_entropy_rvi'] )\n"
   ]
  },
  {
   "cell_type": "code",
   "execution_count": 16,
   "id": "8c3abc9b-b0d8-48a0-88ea-bd1b423a6ffb",
   "metadata": {
    "pycharm": {
     "name": "#%%\n"
    }
   },
   "outputs": [
    {
     "data": {
      "text/html": [
       "<div>\n",
       "<style scoped>\n",
       "    .dataframe tbody tr th:only-of-type {\n",
       "        vertical-align: middle;\n",
       "    }\n",
       "\n",
       "    .dataframe tbody tr th {\n",
       "        vertical-align: top;\n",
       "    }\n",
       "\n",
       "    .dataframe thead th {\n",
       "        text-align: right;\n",
       "    }\n",
       "</style>\n",
       "<table border=\"1\" class=\"dataframe\">\n",
       "  <thead>\n",
       "    <tr style=\"text-align: right;\">\n",
       "      <th></th>\n",
       "      <th>min_vv</th>\n",
       "      <th>max_vv</th>\n",
       "      <th>range_vv</th>\n",
       "      <th>mean_vv</th>\n",
       "      <th>correlation_vv</th>\n",
       "      <th>permutation_entropy_vv</th>\n",
       "      <th>min_vh</th>\n",
       "      <th>max_vh</th>\n",
       "      <th>range_vh</th>\n",
       "      <th>mean_vh</th>\n",
       "      <th>...</th>\n",
       "      <th>range_vv_by_vh</th>\n",
       "      <th>mean_vv_by_vh</th>\n",
       "      <th>correlation_vv_by_vh</th>\n",
       "      <th>permutation_entropy_vv_by_vh</th>\n",
       "      <th>min_rvi</th>\n",
       "      <th>max_rvi</th>\n",
       "      <th>range_rvi</th>\n",
       "      <th>mean_rvi</th>\n",
       "      <th>correlation_rvi</th>\n",
       "      <th>permutation_entropy_rvi</th>\n",
       "    </tr>\n",
       "  </thead>\n",
       "  <tbody>\n",
       "    <tr>\n",
       "      <th>0</th>\n",
       "      <td>0.013523</td>\n",
       "      <td>0.332177</td>\n",
       "      <td>0.318655</td>\n",
       "      <td>0.097757</td>\n",
       "      <td>0.461551</td>\n",
       "      <td>0.447534</td>\n",
       "      <td>0.004575</td>\n",
       "      <td>0.043009</td>\n",
       "      <td>0.038434</td>\n",
       "      <td>0.021895</td>\n",
       "      <td>...</td>\n",
       "      <td>32.479452</td>\n",
       "      <td>6.034254</td>\n",
       "      <td>0.447505</td>\n",
       "      <td>0.447534</td>\n",
       "      <td>0.544943</td>\n",
       "      <td>0.971162</td>\n",
       "      <td>0.426219</td>\n",
       "      <td>0.773959</td>\n",
       "      <td>0.423610</td>\n",
       "      <td>0.447534</td>\n",
       "    </tr>\n",
       "    <tr>\n",
       "      <th>1</th>\n",
       "      <td>0.075895</td>\n",
       "      <td>0.357973</td>\n",
       "      <td>0.282078</td>\n",
       "      <td>0.185086</td>\n",
       "      <td>0.043604</td>\n",
       "      <td>0.447534</td>\n",
       "      <td>0.018511</td>\n",
       "      <td>0.094886</td>\n",
       "      <td>0.076375</td>\n",
       "      <td>0.045595</td>\n",
       "      <td>...</td>\n",
       "      <td>4.714840</td>\n",
       "      <td>4.289631</td>\n",
       "      <td>-0.265595</td>\n",
       "      <td>0.447534</td>\n",
       "      <td>0.676906</td>\n",
       "      <td>0.871958</td>\n",
       "      <td>0.195052</td>\n",
       "      <td>0.800654</td>\n",
       "      <td>-0.163253</td>\n",
       "      <td>0.447534</td>\n",
       "    </tr>\n",
       "    <tr>\n",
       "      <th>2</th>\n",
       "      <td>0.023591</td>\n",
       "      <td>0.410098</td>\n",
       "      <td>0.386507</td>\n",
       "      <td>0.150446</td>\n",
       "      <td>0.181266</td>\n",
       "      <td>0.447534</td>\n",
       "      <td>0.006040</td>\n",
       "      <td>0.091684</td>\n",
       "      <td>0.085645</td>\n",
       "      <td>0.030591</td>\n",
       "      <td>...</td>\n",
       "      <td>20.105053</td>\n",
       "      <td>6.765803</td>\n",
       "      <td>0.519996</td>\n",
       "      <td>0.447534</td>\n",
       "      <td>0.548496</td>\n",
       "      <td>0.955197</td>\n",
       "      <td>0.406700</td>\n",
       "      <td>0.784078</td>\n",
       "      <td>0.552260</td>\n",
       "      <td>0.447534</td>\n",
       "    </tr>\n",
       "    <tr>\n",
       "      <th>3</th>\n",
       "      <td>0.024998</td>\n",
       "      <td>0.353161</td>\n",
       "      <td>0.328163</td>\n",
       "      <td>0.124272</td>\n",
       "      <td>0.265550</td>\n",
       "      <td>0.447534</td>\n",
       "      <td>0.004137</td>\n",
       "      <td>0.071775</td>\n",
       "      <td>0.067638</td>\n",
       "      <td>0.026448</td>\n",
       "      <td>...</td>\n",
       "      <td>26.365675</td>\n",
       "      <td>6.520087</td>\n",
       "      <td>0.203857</td>\n",
       "      <td>0.447534</td>\n",
       "      <td>0.525664</td>\n",
       "      <td>0.964880</td>\n",
       "      <td>0.439216</td>\n",
       "      <td>0.792443</td>\n",
       "      <td>0.395136</td>\n",
       "      <td>0.447534</td>\n",
       "    </tr>\n",
       "    <tr>\n",
       "      <th>4</th>\n",
       "      <td>0.021431</td>\n",
       "      <td>0.642554</td>\n",
       "      <td>0.621122</td>\n",
       "      <td>0.138022</td>\n",
       "      <td>0.136937</td>\n",
       "      <td>0.447534</td>\n",
       "      <td>0.004080</td>\n",
       "      <td>0.066678</td>\n",
       "      <td>0.062598</td>\n",
       "      <td>0.024941</td>\n",
       "      <td>...</td>\n",
       "      <td>23.418916</td>\n",
       "      <td>6.986062</td>\n",
       "      <td>0.604755</td>\n",
       "      <td>0.447534</td>\n",
       "      <td>0.555957</td>\n",
       "      <td>0.961045</td>\n",
       "      <td>0.405089</td>\n",
       "      <td>0.823849</td>\n",
       "      <td>0.650347</td>\n",
       "      <td>0.447534</td>\n",
       "    </tr>\n",
       "  </tbody>\n",
       "</table>\n",
       "<p>5 rows × 24 columns</p>\n",
       "</div>"
      ],
      "text/plain": [
       "     min_vv    max_vv  range_vv   mean_vv  correlation_vv  \\\n",
       "0  0.013523  0.332177  0.318655  0.097757        0.461551   \n",
       "1  0.075895  0.357973  0.282078  0.185086        0.043604   \n",
       "2  0.023591  0.410098  0.386507  0.150446        0.181266   \n",
       "3  0.024998  0.353161  0.328163  0.124272        0.265550   \n",
       "4  0.021431  0.642554  0.621122  0.138022        0.136937   \n",
       "\n",
       "   permutation_entropy_vv    min_vh    max_vh  range_vh   mean_vh  ...  \\\n",
       "0                0.447534  0.004575  0.043009  0.038434  0.021895  ...   \n",
       "1                0.447534  0.018511  0.094886  0.076375  0.045595  ...   \n",
       "2                0.447534  0.006040  0.091684  0.085645  0.030591  ...   \n",
       "3                0.447534  0.004137  0.071775  0.067638  0.026448  ...   \n",
       "4                0.447534  0.004080  0.066678  0.062598  0.024941  ...   \n",
       "\n",
       "   range_vv_by_vh  mean_vv_by_vh  correlation_vv_by_vh  \\\n",
       "0       32.479452       6.034254              0.447505   \n",
       "1        4.714840       4.289631             -0.265595   \n",
       "2       20.105053       6.765803              0.519996   \n",
       "3       26.365675       6.520087              0.203857   \n",
       "4       23.418916       6.986062              0.604755   \n",
       "\n",
       "   permutation_entropy_vv_by_vh   min_rvi   max_rvi  range_rvi  mean_rvi  \\\n",
       "0                      0.447534  0.544943  0.971162   0.426219  0.773959   \n",
       "1                      0.447534  0.676906  0.871958   0.195052  0.800654   \n",
       "2                      0.447534  0.548496  0.955197   0.406700  0.784078   \n",
       "3                      0.447534  0.525664  0.964880   0.439216  0.792443   \n",
       "4                      0.447534  0.555957  0.961045   0.405089  0.823849   \n",
       "\n",
       "   correlation_rvi  permutation_entropy_rvi  \n",
       "0         0.423610                 0.447534  \n",
       "1        -0.163253                 0.447534  \n",
       "2         0.552260                 0.447534  \n",
       "3         0.395136                 0.447534  \n",
       "4         0.650347                 0.447534  \n",
       "\n",
       "[5 rows x 24 columns]"
      ]
     },
     "execution_count": 16,
     "metadata": {},
     "output_type": "execute_result"
    }
   ],
   "source": [
    "features_data.head()"
   ]
  },
  {
   "cell_type": "markdown",
   "id": "cd5b06a0-edcc-455e-bf3e-72a10c19a1a7",
   "metadata": {
    "pycharm": {
     "name": "#%% md\n"
    }
   },
   "source": [
    "## Adding our own feature selections"
   ]
  },
  {
   "cell_type": "markdown",
   "id": "0955f27e-d1e8-4896-bbcd-444ba25fb242",
   "metadata": {
    "pycharm": {
     "name": "#%% md\n"
    }
   },
   "source": [
    "## Joining the predictor variables and response variables\n",
    "Now that we have extracted our predictor variables, we need to join them onto the response variable . We use the function <i><b>combine_two_datasets</b></i> to combine the predictor variables and response variables. The <i><b>concat</b></i> function from pandas comes in handy here."
   ]
  },
  {
   "cell_type": "code",
   "execution_count": 17,
   "id": "71ba0448-95b9-4960-a364-6cc3253e2750",
   "metadata": {
    "pycharm": {
     "name": "#%%\n"
    }
   },
   "outputs": [],
   "source": [
    "def combine_two_datasets(dataset1,dataset2):\n",
    "    '''\n",
    "    Returns a  vertically concatenated dataset.\n",
    "    Attributes:\n",
    "    dataset1 - Dataset 1 to be combined \n",
    "    dataset2 - Dataset 2 to be combined\n",
    "    '''\n",
    "    data = pd.concat([dataset1,dataset2], axis=1)\n",
    "    return data"
   ]
  },
  {
   "cell_type": "code",
   "execution_count": 18,
   "id": "4deacc23-ae01-4b0e-8efe-622281f09fd8",
   "metadata": {
    "pycharm": {
     "name": "#%%\n"
    }
   },
   "outputs": [
    {
     "data": {
      "text/html": [
       "<div>\n",
       "<style scoped>\n",
       "    .dataframe tbody tr th:only-of-type {\n",
       "        vertical-align: middle;\n",
       "    }\n",
       "\n",
       "    .dataframe tbody tr th {\n",
       "        vertical-align: top;\n",
       "    }\n",
       "\n",
       "    .dataframe thead th {\n",
       "        text-align: right;\n",
       "    }\n",
       "</style>\n",
       "<table border=\"1\" class=\"dataframe\">\n",
       "  <thead>\n",
       "    <tr style=\"text-align: right;\">\n",
       "      <th></th>\n",
       "      <th>District</th>\n",
       "      <th>Latitude</th>\n",
       "      <th>Longitude</th>\n",
       "      <th>Season(SA = Summer Autumn, WS = Winter Spring)</th>\n",
       "      <th>Rice Crop Intensity(D=Double, T=Triple)</th>\n",
       "      <th>Date of Harvest</th>\n",
       "      <th>Field size (ha)</th>\n",
       "      <th>Rice Yield (kg/ha)</th>\n",
       "      <th>min_vv</th>\n",
       "      <th>max_vv</th>\n",
       "      <th>...</th>\n",
       "      <th>range_vv_by_vh</th>\n",
       "      <th>mean_vv_by_vh</th>\n",
       "      <th>correlation_vv_by_vh</th>\n",
       "      <th>permutation_entropy_vv_by_vh</th>\n",
       "      <th>min_rvi</th>\n",
       "      <th>max_rvi</th>\n",
       "      <th>range_rvi</th>\n",
       "      <th>mean_rvi</th>\n",
       "      <th>correlation_rvi</th>\n",
       "      <th>permutation_entropy_rvi</th>\n",
       "    </tr>\n",
       "  </thead>\n",
       "  <tbody>\n",
       "    <tr>\n",
       "      <th>0</th>\n",
       "      <td>Chau_Phu</td>\n",
       "      <td>10.510542</td>\n",
       "      <td>105.248554</td>\n",
       "      <td>SA</td>\n",
       "      <td>T</td>\n",
       "      <td>15-07-2022</td>\n",
       "      <td>3.40</td>\n",
       "      <td>5500</td>\n",
       "      <td>0.013523</td>\n",
       "      <td>0.332177</td>\n",
       "      <td>...</td>\n",
       "      <td>32.479452</td>\n",
       "      <td>6.034254</td>\n",
       "      <td>0.447505</td>\n",
       "      <td>0.447534</td>\n",
       "      <td>0.544943</td>\n",
       "      <td>0.971162</td>\n",
       "      <td>0.426219</td>\n",
       "      <td>0.773959</td>\n",
       "      <td>0.423610</td>\n",
       "      <td>0.447534</td>\n",
       "    </tr>\n",
       "    <tr>\n",
       "      <th>1</th>\n",
       "      <td>Chau_Phu</td>\n",
       "      <td>10.509150</td>\n",
       "      <td>105.265098</td>\n",
       "      <td>SA</td>\n",
       "      <td>T</td>\n",
       "      <td>15-07-2022</td>\n",
       "      <td>2.43</td>\n",
       "      <td>6000</td>\n",
       "      <td>0.075895</td>\n",
       "      <td>0.357973</td>\n",
       "      <td>...</td>\n",
       "      <td>4.714840</td>\n",
       "      <td>4.289631</td>\n",
       "      <td>-0.265595</td>\n",
       "      <td>0.447534</td>\n",
       "      <td>0.676906</td>\n",
       "      <td>0.871958</td>\n",
       "      <td>0.195052</td>\n",
       "      <td>0.800654</td>\n",
       "      <td>-0.163253</td>\n",
       "      <td>0.447534</td>\n",
       "    </tr>\n",
       "    <tr>\n",
       "      <th>2</th>\n",
       "      <td>Chau_Phu</td>\n",
       "      <td>10.467721</td>\n",
       "      <td>105.192464</td>\n",
       "      <td>SA</td>\n",
       "      <td>D</td>\n",
       "      <td>15-07-2022</td>\n",
       "      <td>1.95</td>\n",
       "      <td>6400</td>\n",
       "      <td>0.023591</td>\n",
       "      <td>0.410098</td>\n",
       "      <td>...</td>\n",
       "      <td>20.105053</td>\n",
       "      <td>6.765803</td>\n",
       "      <td>0.519996</td>\n",
       "      <td>0.447534</td>\n",
       "      <td>0.548496</td>\n",
       "      <td>0.955197</td>\n",
       "      <td>0.406700</td>\n",
       "      <td>0.784078</td>\n",
       "      <td>0.552260</td>\n",
       "      <td>0.447534</td>\n",
       "    </tr>\n",
       "    <tr>\n",
       "      <th>3</th>\n",
       "      <td>Chau_Phu</td>\n",
       "      <td>10.494453</td>\n",
       "      <td>105.241281</td>\n",
       "      <td>SA</td>\n",
       "      <td>T</td>\n",
       "      <td>15-07-2022</td>\n",
       "      <td>4.30</td>\n",
       "      <td>6000</td>\n",
       "      <td>0.024998</td>\n",
       "      <td>0.353161</td>\n",
       "      <td>...</td>\n",
       "      <td>26.365675</td>\n",
       "      <td>6.520087</td>\n",
       "      <td>0.203857</td>\n",
       "      <td>0.447534</td>\n",
       "      <td>0.525664</td>\n",
       "      <td>0.964880</td>\n",
       "      <td>0.439216</td>\n",
       "      <td>0.792443</td>\n",
       "      <td>0.395136</td>\n",
       "      <td>0.447534</td>\n",
       "    </tr>\n",
       "    <tr>\n",
       "      <th>4</th>\n",
       "      <td>Chau_Phu</td>\n",
       "      <td>10.535058</td>\n",
       "      <td>105.252744</td>\n",
       "      <td>SA</td>\n",
       "      <td>D</td>\n",
       "      <td>14-07-2022</td>\n",
       "      <td>3.30</td>\n",
       "      <td>6400</td>\n",
       "      <td>0.021431</td>\n",
       "      <td>0.642554</td>\n",
       "      <td>...</td>\n",
       "      <td>23.418916</td>\n",
       "      <td>6.986062</td>\n",
       "      <td>0.604755</td>\n",
       "      <td>0.447534</td>\n",
       "      <td>0.555957</td>\n",
       "      <td>0.961045</td>\n",
       "      <td>0.405089</td>\n",
       "      <td>0.823849</td>\n",
       "      <td>0.650347</td>\n",
       "      <td>0.447534</td>\n",
       "    </tr>\n",
       "  </tbody>\n",
       "</table>\n",
       "<p>5 rows × 32 columns</p>\n",
       "</div>"
      ],
      "text/plain": [
       "   District   Latitude   Longitude  \\\n",
       "0  Chau_Phu  10.510542  105.248554   \n",
       "1  Chau_Phu  10.509150  105.265098   \n",
       "2  Chau_Phu  10.467721  105.192464   \n",
       "3  Chau_Phu  10.494453  105.241281   \n",
       "4  Chau_Phu  10.535058  105.252744   \n",
       "\n",
       "  Season(SA = Summer Autumn, WS = Winter Spring)  \\\n",
       "0                                             SA   \n",
       "1                                             SA   \n",
       "2                                             SA   \n",
       "3                                             SA   \n",
       "4                                             SA   \n",
       "\n",
       "  Rice Crop Intensity(D=Double, T=Triple) Date of Harvest  Field size (ha)  \\\n",
       "0                                       T      15-07-2022             3.40   \n",
       "1                                       T      15-07-2022             2.43   \n",
       "2                                       D      15-07-2022             1.95   \n",
       "3                                       T      15-07-2022             4.30   \n",
       "4                                       D      14-07-2022             3.30   \n",
       "\n",
       "   Rice Yield (kg/ha)    min_vv    max_vv  ...  range_vv_by_vh  mean_vv_by_vh  \\\n",
       "0                5500  0.013523  0.332177  ...       32.479452       6.034254   \n",
       "1                6000  0.075895  0.357973  ...        4.714840       4.289631   \n",
       "2                6400  0.023591  0.410098  ...       20.105053       6.765803   \n",
       "3                6000  0.024998  0.353161  ...       26.365675       6.520087   \n",
       "4                6400  0.021431  0.642554  ...       23.418916       6.986062   \n",
       "\n",
       "   correlation_vv_by_vh  permutation_entropy_vv_by_vh   min_rvi   max_rvi  \\\n",
       "0              0.447505                      0.447534  0.544943  0.971162   \n",
       "1             -0.265595                      0.447534  0.676906  0.871958   \n",
       "2              0.519996                      0.447534  0.548496  0.955197   \n",
       "3              0.203857                      0.447534  0.525664  0.964880   \n",
       "4              0.604755                      0.447534  0.555957  0.961045   \n",
       "\n",
       "   range_rvi  mean_rvi  correlation_rvi  permutation_entropy_rvi  \n",
       "0   0.426219  0.773959         0.423610                 0.447534  \n",
       "1   0.195052  0.800654        -0.163253                 0.447534  \n",
       "2   0.406700  0.784078         0.552260                 0.447534  \n",
       "3   0.439216  0.792443         0.395136                 0.447534  \n",
       "4   0.405089  0.823849         0.650347                 0.447534  \n",
       "\n",
       "[5 rows x 32 columns]"
      ]
     },
     "execution_count": 18,
     "metadata": {},
     "output_type": "execute_result"
    }
   ],
   "source": [
    "crop_data = combine_two_datasets(crop_yield_data,features_data)\n",
    "crop_data.head()"
   ]
  },
  {
   "cell_type": "code",
   "execution_count": 19,
   "id": "39d9295e-970d-4cff-a184-46cd15104edc",
   "metadata": {
    "pycharm": {
     "name": "#%%\n"
    }
   },
   "outputs": [
    {
     "data": {
      "text/plain": [
       "Index(['District', 'Latitude', 'Longitude',\n",
       "       'Season(SA = Summer Autumn, WS = Winter Spring)',\n",
       "       'Rice Crop Intensity(D=Double, T=Triple)', 'Date of Harvest',\n",
       "       'Field size (ha)', 'Rice Yield (kg/ha)', 'min_vv', 'max_vv', 'range_vv',\n",
       "       'mean_vv', 'correlation_vv', 'permutation_entropy_vv', 'min_vh',\n",
       "       'max_vh', 'range_vh', 'mean_vh', 'correlation_vh',\n",
       "       'permutation_entropy_vh', 'min_vv_by_vh', 'max_vv_by_vh',\n",
       "       'range_vv_by_vh', 'mean_vv_by_vh', 'correlation_vv_by_vh',\n",
       "       'permutation_entropy_vv_by_vh', 'min_rvi', 'max_rvi', 'range_rvi',\n",
       "       'mean_rvi', 'correlation_rvi', 'permutation_entropy_rvi'],\n",
       "      dtype='object')"
      ]
     },
     "execution_count": 19,
     "metadata": {},
     "output_type": "execute_result"
    }
   ],
   "source": [
    "crop_data.columns"
   ]
  },
  {
   "cell_type": "markdown",
   "id": "aff4f05e-fa7a-405b-af17-80ead4e47d2f",
   "metadata": {
    "pycharm": {
     "name": "#%% md\n"
    }
   },
   "source": [
    "## Model Building"
   ]
  },
  {
   "cell_type": "markdown",
   "id": "9f77feff-598b-4e8e-a74d-5250c0d02be7",
   "metadata": {
    "pycharm": {
     "name": "#%% md\n"
    }
   },
   "source": [
    "<p align=\"justify\"> Now let us select the columns required for our model building exercise. Here we consider only the statistical features generated using the band values for training the model. Here we are not including latitude and longitude as predictor variables since they have no effect on the rice yield.</p>"
   ]
  },
  {
   "cell_type": "code",
   "execution_count": 20,
   "id": "58f61f83-f82c-4866-8665-c09c29e2f04c",
   "metadata": {
    "pycharm": {
     "name": "#%%\n"
    }
   },
   "outputs": [],
   "source": [
    "crop_data = crop_data[['min_vv', 'max_vv', 'range_vv', 'mean_vv', 'correlation_vv', 'permutation_entropy_vv',\n",
    "                          'min_vh', 'max_vh', 'range_vh', 'mean_vh', 'correlation_vh', 'permutation_entropy_vh',\n",
    "                          'min_vv_by_vh',  'max_vv_by_vh', 'range_vv_by_vh', 'mean_vv_by_vh', 'correlation_vv_by_vh', 'permutation_entropy_vv_by_vh',\n",
    "                       'min_rvi', 'max_rvi', 'range_rvi', 'mean_rvi','correlation_rvi', 'permutation_entropy_rvi','Rice Yield (kg/ha)']]"
   ]
  },
  {
   "cell_type": "code",
   "execution_count": 21,
   "id": "bdb8df95-5a1b-4bd2-964e-69061e0f22d1",
   "metadata": {
    "pycharm": {
     "name": "#%%\n"
    }
   },
   "outputs": [
    {
     "data": {
      "text/html": [
       "<div>\n",
       "<style scoped>\n",
       "    .dataframe tbody tr th:only-of-type {\n",
       "        vertical-align: middle;\n",
       "    }\n",
       "\n",
       "    .dataframe tbody tr th {\n",
       "        vertical-align: top;\n",
       "    }\n",
       "\n",
       "    .dataframe thead th {\n",
       "        text-align: right;\n",
       "    }\n",
       "</style>\n",
       "<table border=\"1\" class=\"dataframe\">\n",
       "  <thead>\n",
       "    <tr style=\"text-align: right;\">\n",
       "      <th></th>\n",
       "      <th>min_vv</th>\n",
       "      <th>max_vv</th>\n",
       "      <th>range_vv</th>\n",
       "      <th>mean_vv</th>\n",
       "      <th>correlation_vv</th>\n",
       "      <th>permutation_entropy_vv</th>\n",
       "      <th>min_vh</th>\n",
       "      <th>max_vh</th>\n",
       "      <th>range_vh</th>\n",
       "      <th>mean_vh</th>\n",
       "      <th>...</th>\n",
       "      <th>mean_vv_by_vh</th>\n",
       "      <th>correlation_vv_by_vh</th>\n",
       "      <th>permutation_entropy_vv_by_vh</th>\n",
       "      <th>min_rvi</th>\n",
       "      <th>max_rvi</th>\n",
       "      <th>range_rvi</th>\n",
       "      <th>mean_rvi</th>\n",
       "      <th>correlation_rvi</th>\n",
       "      <th>permutation_entropy_rvi</th>\n",
       "      <th>Rice Yield (kg/ha)</th>\n",
       "    </tr>\n",
       "  </thead>\n",
       "  <tbody>\n",
       "    <tr>\n",
       "      <th>0</th>\n",
       "      <td>0.013523</td>\n",
       "      <td>0.332177</td>\n",
       "      <td>0.318655</td>\n",
       "      <td>0.097757</td>\n",
       "      <td>0.461551</td>\n",
       "      <td>0.447534</td>\n",
       "      <td>0.004575</td>\n",
       "      <td>0.043009</td>\n",
       "      <td>0.038434</td>\n",
       "      <td>0.021895</td>\n",
       "      <td>...</td>\n",
       "      <td>6.034254</td>\n",
       "      <td>0.447505</td>\n",
       "      <td>0.447534</td>\n",
       "      <td>0.544943</td>\n",
       "      <td>0.971162</td>\n",
       "      <td>0.426219</td>\n",
       "      <td>0.773959</td>\n",
       "      <td>0.423610</td>\n",
       "      <td>0.447534</td>\n",
       "      <td>5500</td>\n",
       "    </tr>\n",
       "    <tr>\n",
       "      <th>1</th>\n",
       "      <td>0.075895</td>\n",
       "      <td>0.357973</td>\n",
       "      <td>0.282078</td>\n",
       "      <td>0.185086</td>\n",
       "      <td>0.043604</td>\n",
       "      <td>0.447534</td>\n",
       "      <td>0.018511</td>\n",
       "      <td>0.094886</td>\n",
       "      <td>0.076375</td>\n",
       "      <td>0.045595</td>\n",
       "      <td>...</td>\n",
       "      <td>4.289631</td>\n",
       "      <td>-0.265595</td>\n",
       "      <td>0.447534</td>\n",
       "      <td>0.676906</td>\n",
       "      <td>0.871958</td>\n",
       "      <td>0.195052</td>\n",
       "      <td>0.800654</td>\n",
       "      <td>-0.163253</td>\n",
       "      <td>0.447534</td>\n",
       "      <td>6000</td>\n",
       "    </tr>\n",
       "    <tr>\n",
       "      <th>2</th>\n",
       "      <td>0.023591</td>\n",
       "      <td>0.410098</td>\n",
       "      <td>0.386507</td>\n",
       "      <td>0.150446</td>\n",
       "      <td>0.181266</td>\n",
       "      <td>0.447534</td>\n",
       "      <td>0.006040</td>\n",
       "      <td>0.091684</td>\n",
       "      <td>0.085645</td>\n",
       "      <td>0.030591</td>\n",
       "      <td>...</td>\n",
       "      <td>6.765803</td>\n",
       "      <td>0.519996</td>\n",
       "      <td>0.447534</td>\n",
       "      <td>0.548496</td>\n",
       "      <td>0.955197</td>\n",
       "      <td>0.406700</td>\n",
       "      <td>0.784078</td>\n",
       "      <td>0.552260</td>\n",
       "      <td>0.447534</td>\n",
       "      <td>6400</td>\n",
       "    </tr>\n",
       "    <tr>\n",
       "      <th>3</th>\n",
       "      <td>0.024998</td>\n",
       "      <td>0.353161</td>\n",
       "      <td>0.328163</td>\n",
       "      <td>0.124272</td>\n",
       "      <td>0.265550</td>\n",
       "      <td>0.447534</td>\n",
       "      <td>0.004137</td>\n",
       "      <td>0.071775</td>\n",
       "      <td>0.067638</td>\n",
       "      <td>0.026448</td>\n",
       "      <td>...</td>\n",
       "      <td>6.520087</td>\n",
       "      <td>0.203857</td>\n",
       "      <td>0.447534</td>\n",
       "      <td>0.525664</td>\n",
       "      <td>0.964880</td>\n",
       "      <td>0.439216</td>\n",
       "      <td>0.792443</td>\n",
       "      <td>0.395136</td>\n",
       "      <td>0.447534</td>\n",
       "      <td>6000</td>\n",
       "    </tr>\n",
       "    <tr>\n",
       "      <th>4</th>\n",
       "      <td>0.021431</td>\n",
       "      <td>0.642554</td>\n",
       "      <td>0.621122</td>\n",
       "      <td>0.138022</td>\n",
       "      <td>0.136937</td>\n",
       "      <td>0.447534</td>\n",
       "      <td>0.004080</td>\n",
       "      <td>0.066678</td>\n",
       "      <td>0.062598</td>\n",
       "      <td>0.024941</td>\n",
       "      <td>...</td>\n",
       "      <td>6.986062</td>\n",
       "      <td>0.604755</td>\n",
       "      <td>0.447534</td>\n",
       "      <td>0.555957</td>\n",
       "      <td>0.961045</td>\n",
       "      <td>0.405089</td>\n",
       "      <td>0.823849</td>\n",
       "      <td>0.650347</td>\n",
       "      <td>0.447534</td>\n",
       "      <td>6400</td>\n",
       "    </tr>\n",
       "  </tbody>\n",
       "</table>\n",
       "<p>5 rows × 25 columns</p>\n",
       "</div>"
      ],
      "text/plain": [
       "     min_vv    max_vv  range_vv   mean_vv  correlation_vv  \\\n",
       "0  0.013523  0.332177  0.318655  0.097757        0.461551   \n",
       "1  0.075895  0.357973  0.282078  0.185086        0.043604   \n",
       "2  0.023591  0.410098  0.386507  0.150446        0.181266   \n",
       "3  0.024998  0.353161  0.328163  0.124272        0.265550   \n",
       "4  0.021431  0.642554  0.621122  0.138022        0.136937   \n",
       "\n",
       "   permutation_entropy_vv    min_vh    max_vh  range_vh   mean_vh  ...  \\\n",
       "0                0.447534  0.004575  0.043009  0.038434  0.021895  ...   \n",
       "1                0.447534  0.018511  0.094886  0.076375  0.045595  ...   \n",
       "2                0.447534  0.006040  0.091684  0.085645  0.030591  ...   \n",
       "3                0.447534  0.004137  0.071775  0.067638  0.026448  ...   \n",
       "4                0.447534  0.004080  0.066678  0.062598  0.024941  ...   \n",
       "\n",
       "   mean_vv_by_vh  correlation_vv_by_vh  permutation_entropy_vv_by_vh  \\\n",
       "0       6.034254              0.447505                      0.447534   \n",
       "1       4.289631             -0.265595                      0.447534   \n",
       "2       6.765803              0.519996                      0.447534   \n",
       "3       6.520087              0.203857                      0.447534   \n",
       "4       6.986062              0.604755                      0.447534   \n",
       "\n",
       "    min_rvi   max_rvi  range_rvi  mean_rvi  correlation_rvi  \\\n",
       "0  0.544943  0.971162   0.426219  0.773959         0.423610   \n",
       "1  0.676906  0.871958   0.195052  0.800654        -0.163253   \n",
       "2  0.548496  0.955197   0.406700  0.784078         0.552260   \n",
       "3  0.525664  0.964880   0.439216  0.792443         0.395136   \n",
       "4  0.555957  0.961045   0.405089  0.823849         0.650347   \n",
       "\n",
       "   permutation_entropy_rvi  Rice Yield (kg/ha)  \n",
       "0                 0.447534                5500  \n",
       "1                 0.447534                6000  \n",
       "2                 0.447534                6400  \n",
       "3                 0.447534                6000  \n",
       "4                 0.447534                6400  \n",
       "\n",
       "[5 rows x 25 columns]"
      ]
     },
     "execution_count": 21,
     "metadata": {},
     "output_type": "execute_result"
    }
   ],
   "source": [
    "crop_data.head()"
   ]
  },
  {
   "cell_type": "code",
   "execution_count": 22,
   "id": "5b0a9da7-f4ab-4e03-85e1-0346a50079f4",
   "metadata": {
    "pycharm": {
     "name": "#%%\n"
    }
   },
   "outputs": [
    {
     "data": {
      "text/plain": [
       "(557, 25)"
      ]
     },
     "execution_count": 22,
     "metadata": {},
     "output_type": "execute_result"
    }
   ],
   "source": [
    "crop_data.shape"
   ]
  },
  {
   "cell_type": "markdown",
   "id": "cdd3f46b-347e-4665-8eb7-8d028046853c",
   "metadata": {
    "pycharm": {
     "name": "#%% md\n"
    }
   },
   "source": [
    "### Train and Test Split "
   ]
  },
  {
   "cell_type": "markdown",
   "id": "90847564-e4af-4aa3-ba14-e4cd1575c764",
   "metadata": {
    "pycharm": {
     "name": "#%% md\n"
    }
   },
   "source": [
    "<p align=\"justify\">We will now split the data into 80% training data and 20% test data. Scikit-learn alias “sklearn” is a robust library for machine learning in Python. The scikit-learn library has a <i><b>model_selection</b></i> module in which there is a splitting function <i><b>train_test_split</b></i>. You can use the same.</p>"
   ]
  },
  {
   "cell_type": "code",
   "execution_count": 23,
   "id": "70cf613b-1ef9-4723-9259-8b735ea4eb76",
   "metadata": {
    "pycharm": {
     "name": "#%%\n"
    }
   },
   "outputs": [],
   "source": [
    "X = crop_data.drop(columns=['Rice Yield (kg/ha)']).values\n",
    "y = crop_data ['Rice Yield (kg/ha)'].values\n",
    "# Choose any random state\n",
    "X_train, X_test, y_train, y_test = train_test_split(X, y, test_size=0.2,random_state=21)"
   ]
  },
  {
   "cell_type": "markdown",
   "id": "fe6e90e3-abd5-420c-a465-955e976da2cb",
   "metadata": {
    "pycharm": {
     "name": "#%% md\n"
    }
   },
   "source": [
    "### Hypertuning Parameters"
   ]
  },
  {
   "cell_type": "code",
   "execution_count": 24,
   "id": "df0afc98-a962-45a6-8e65-1765c3372dc6",
   "metadata": {
    "pycharm": {
     "name": "#%%\n"
    }
   },
   "outputs": [],
   "source": [
    "## Tuning model hyperparameters\n",
    "def getTotalAbsoluteError(X_train, y_train, crop_data):\n",
    "    predictedValues = crop_data.predict(X_train)\n",
    "    errors = y_train - predictedValues\n",
    "    return(sum(abs(errors)))"
   ]
  },
  {
   "cell_type": "code",
   "execution_count": 25,
   "id": "9dd7c082-691e-4967-949c-a4b64db2f64d",
   "metadata": {
    "pycharm": {
     "name": "#%%\n"
    }
   },
   "outputs": [
    {
     "data": {
      "text/plain": [
       "<matplotlib.legend.Legend at 0x7f2b08e14df0>"
      ]
     },
     "execution_count": 25,
     "metadata": {},
     "output_type": "execute_result"
    },
    {
     "data": {
      "image/png": "[encoded data removed]",
      "text/plain": [
       "<Figure size 640x480 with 1 Axes>"
      ]
     },
     "metadata": {},
     "output_type": "display_data"
    }
   ],
   "source": [
    "## Max tree depth parameter\n",
    "err = []\n",
    "errIndex = []\n",
    "errTest = []\n",
    "for tree_depth in range(1,20):\n",
    "    clf2 = ExtraTreesRegressor(random_state = 123, max_depth=tree_depth)\n",
    "    model2 = clf2.fit(X_train,y_train)\n",
    "    err.append(getTotalAbsoluteError(X_test, y_test, model2))\n",
    "    errTest.append(getTotalAbsoluteError(X_train, y_train, model2))\n",
    "    errIndex.append(tree_depth)\n",
    "    \n",
    "fig, ax = plt.subplots()\n",
    "ax.plot(errIndex, err, 'rs-', color = 'orange', linewidth = '1.5')\n",
    "ax.plot(errIndex, errTest, 'rs-', color = 'green', linewidth= '1.5') \n",
    "ax.set_xlabel('Max Tree Depth')\n",
    "ax.set_ylabel('Total error (MAE)')\n",
    "ax.set_title('Error vs Tree Depth for Training Set')\n",
    "plt.legend(['Train','Validate'])"
   ]
  },
  {
   "cell_type": "markdown",
   "id": "77c2b067-a6ab-4eb3-af1d-b9050fd588cf",
   "metadata": {
    "pycharm": {
     "name": "#%% md\n"
    }
   },
   "source": [
    "Here we see that the Max Tree Depth of 11 is the ideal max tree depth and any value higher will increase the total error (MAE)."
   ]
  },
  {
   "cell_type": "code",
   "execution_count": 26,
   "id": "5315db2c-cbe8-4598-92f5-05fc9cc993cd",
   "metadata": {
    "pycharm": {
     "name": "#%%\n"
    }
   },
   "outputs": [
    {
     "data": {
      "text/plain": [
       "<matplotlib.legend.Legend at 0x7f2b08b09480>"
      ]
     },
     "execution_count": 26,
     "metadata": {},
     "output_type": "execute_result"
    },
    {
     "data": {
      "image/png": "[encoded data removed]",
      "text/plain": [
       "<Figure size 640x480 with 1 Axes>"
      ]
     },
     "metadata": {},
     "output_type": "display_data"
    }
   ],
   "source": [
    "## Min Sample Leaves parameter\n",
    "err = []\n",
    "errIndex = []\n",
    "errTest = []\n",
    "\n",
    "for leafcount in range (1, 20):\n",
    "    clf2 = ExtraTreesRegressor(random_state = 123, min_samples_leaf = leafcount)\n",
    "    model2 = clf2.fit(X_train, y_train)\n",
    "    err.append(getTotalAbsoluteError(X_train, y_train, model2))\n",
    "    errTest.append(getTotalAbsoluteError(X_test, y_test, model2))\n",
    "    errIndex.append(leafcount)\n",
    "\n",
    "fig, ax = plt.subplots()\n",
    "ax.plot(errIndex, err, 'rs-', color = 'orange', linewidth = '1.5')\n",
    "ax.plot(errIndex, errTest, 'rs-', color = 'green', linewidth= '1.5') \n",
    "ax.set_xlabel('Min Sample Leaves')\n",
    "ax.set_ylabel('Total error (MAE)')\n",
    "ax.set_title('Error vs Min Sample Leaves for Training Set')\n",
    "plt.legend(['Train','Validate'])"
   ]
  },
  {
   "cell_type": "markdown",
   "id": "e3ccd0d4-1c76-4dc8-9bab-102c45fa3000",
   "metadata": {
    "pycharm": {
     "name": "#%% md\n"
    }
   },
   "source": [
    "The minimum sample leaf size graph has a logerithamic growth curve for the training set. "
   ]
  },
  {
   "cell_type": "markdown",
   "id": "86d57452-ee72-4ac2-b033-296f455cf6e7",
   "metadata": {
    "pycharm": {
     "name": "#%% md\n"
    }
   },
   "source": [
    "### Model Training"
   ]
  },
  {
   "cell_type": "markdown",
   "id": "14919aa2-2415-4b01-97d2-0646b4168fc2",
   "metadata": {
    "pycharm": {
     "name": "#%% md\n"
    }
   },
   "source": [
    "<p justify =\"align\">Now that we have the data in a format appropriate for machine learning, we can begin training a model. In this demonstration notebook, we have used a Extra Tree Regressor  model from the scikit-learn library. This library offers a wide range of other models, each with the capacity for extensive parameter tuning and customization capabilities.</p>\n",
    "\n",
    "<p justify =\"align\">Scikit-learn models require separation of predictor variables and the response variable. You have to store the predictor variables in array X and the response variable in the array Y. You must make sure not to include the response variable in array X.</p>"
   ]
  },
  {
   "cell_type": "code",
   "execution_count": 82,
   "id": "01382fe9-645a-4b63-97e0-d227b314e866",
   "metadata": {
    "pycharm": {
     "name": "#%%\n"
    }
   },
   "outputs": [
    {
     "data": {
      "text/html": [
       "<style>#sk-container-id-5 {color: black;background-color: white;}#sk-container-id-5 pre{padding: 0;}#sk-container-id-5 div.sk-toggleable {background-color: white;}#sk-container-id-5 label.sk-toggleable__label {cursor: pointer;display: block;width: 100%;margin-bottom: 0;padding: 0.3em;box-sizing: border-box;text-align: center;}#sk-container-id-5 label.sk-toggleable__label-arrow:before {content: \"▸\";float: left;margin-right: 0.25em;color: #696969;}#sk-container-id-5 label.sk-toggleable__label-arrow:hover:before {color: black;}#sk-container-id-5 div.sk-estimator:hover label.sk-toggleable__label-arrow:before {color: black;}#sk-container-id-5 div.sk-toggleable__content {max-height: 0;max-width: 0;overflow: hidden;text-align: left;background-color: #f0f8ff;}#sk-container-id-5 div.sk-toggleable__content pre {margin: 0.2em;color: black;border-radius: 0.25em;background-color: #f0f8ff;}#sk-container-id-5 input.sk-toggleable__control:checked~div.sk-toggleable__content {max-height: 200px;max-width: 100%;overflow: auto;}#sk-container-id-5 input.sk-toggleable__control:checked~label.sk-toggleable__label-arrow:before {content: \"▾\";}#sk-container-id-5 div.sk-estimator input.sk-toggleable__control:checked~label.sk-toggleable__label {background-color: #d4ebff;}#sk-container-id-5 div.sk-label input.sk-toggleable__control:checked~label.sk-toggleable__label {background-color: #d4ebff;}#sk-container-id-5 input.sk-hidden--visually {border: 0;clip: rect(1px 1px 1px 1px);clip: rect(1px, 1px, 1px, 1px);height: 1px;margin: -1px;overflow: hidden;padding: 0;position: absolute;width: 1px;}#sk-container-id-5 div.sk-estimator {font-family: monospace;background-color: #f0f8ff;border: 1px dotted black;border-radius: 0.25em;box-sizing: border-box;margin-bottom: 0.5em;}#sk-container-id-5 div.sk-estimator:hover {background-color: #d4ebff;}#sk-container-id-5 div.sk-parallel-item::after {content: \"\";width: 100%;border-bottom: 1px solid gray;flex-grow: 1;}#sk-container-id-5 div.sk-label:hover label.sk-toggleable__label {background-color: #d4ebff;}#sk-container-id-5 div.sk-serial::before {content: \"\";position: absolute;border-left: 1px solid gray;box-sizing: border-box;top: 0;bottom: 0;left: 50%;z-index: 0;}#sk-container-id-5 div.sk-serial {display: flex;flex-direction: column;align-items: center;background-color: white;padding-right: 0.2em;padding-left: 0.2em;position: relative;}#sk-container-id-5 div.sk-item {position: relative;z-index: 1;}#sk-container-id-5 div.sk-parallel {display: flex;align-items: stretch;justify-content: center;background-color: white;position: relative;}#sk-container-id-5 div.sk-item::before, #sk-container-id-5 div.sk-parallel-item::before {content: \"\";position: absolute;border-left: 1px solid gray;box-sizing: border-box;top: 0;bottom: 0;left: 50%;z-index: -1;}#sk-container-id-5 div.sk-parallel-item {display: flex;flex-direction: column;z-index: 1;position: relative;background-color: white;}#sk-container-id-5 div.sk-parallel-item:first-child::after {align-self: flex-end;width: 50%;}#sk-container-id-5 div.sk-parallel-item:last-child::after {align-self: flex-start;width: 50%;}#sk-container-id-5 div.sk-parallel-item:only-child::after {width: 0;}#sk-container-id-5 div.sk-dashed-wrapped {border: 1px dashed gray;margin: 0 0.4em 0.5em 0.4em;box-sizing: border-box;padding-bottom: 0.4em;background-color: white;}#sk-container-id-5 div.sk-label label {font-family: monospace;font-weight: bold;display: inline-block;line-height: 1.2em;}#sk-container-id-5 div.sk-label-container {text-align: center;}#sk-container-id-5 div.sk-container {/* jupyter's `normalize.less` sets `[hidden] { display: none; }` but bootstrap.min.css set `[hidden] { display: none !important; }` so we also need the `!important` here to be able to override the default hidden behavior on the sphinx rendered scikit-learn.org. See: https://github.com/scikit-learn/scikit-learn/issues/21755 */display: inline-block !important;position: relative;}#sk-container-id-5 div.sk-text-repr-fallback {display: none;}</style><div id=\"sk-container-id-5\" class=\"sk-top-container\"><div class=\"sk-text-repr-fallback\"><pre>ExtraTreesRegressor(bootstrap=True, ccp_alpha=0.5, criterion=&#x27;mse&#x27;,\n",
       "                    max_depth=15, max_features=&#x27;auto&#x27;, max_leaf_nodes=20,\n",
       "                    min_samples_leaf=2, n_jobs=1, random_state=123)</pre><b>In a Jupyter environment, please rerun this cell to show the HTML representation or trust the notebook. <br />On GitHub, the HTML representation is unable to render, please try loading this page with nbviewer.org.</b></div><div class=\"sk-container\" hidden><div class=\"sk-item\"><div class=\"sk-estimator sk-toggleable\"><input class=\"sk-toggleable__control sk-hidden--visually\" id=\"sk-estimator-id-5\" type=\"checkbox\" checked><label for=\"sk-estimator-id-5\" class=\"sk-toggleable__label sk-toggleable__label-arrow\">ExtraTreesRegressor</label><div class=\"sk-toggleable__content\"><pre>ExtraTreesRegressor(bootstrap=True, ccp_alpha=0.5, criterion=&#x27;mse&#x27;,\n",
       "                    max_depth=15, max_features=&#x27;auto&#x27;, max_leaf_nodes=20,\n",
       "                    min_samples_leaf=2, n_jobs=1, random_state=123)</pre></div></div></div></div></div>"
      ],
      "text/plain": [
       "ExtraTreesRegressor(bootstrap=True, ccp_alpha=0.5, criterion='mse',\n",
       "                    max_depth=15, max_features='auto', max_leaf_nodes=20,\n",
       "                    min_samples_leaf=2, n_jobs=1, random_state=123)"
      ]
     },
     "execution_count": 82,
     "metadata": {},
     "output_type": "execute_result"
    }
   ],
   "source": [
    "regressor = ExtraTreesRegressor(bootstrap=True, ccp_alpha=0.5, criterion= 'mse',\n",
    "                    max_depth=15, max_features='auto', max_leaf_nodes= 20,\n",
    "                    max_samples=None, min_impurity_decrease=0.0, min_samples_leaf=2,\n",
    "                    min_samples_split=2, min_weight_fraction_leaf=0.0,\n",
    "                    n_estimators=100, n_jobs=-1, oob_score=False,\n",
    "                    random_state=123, verbose=0, warm_start=False)\n",
    "regressor.fit(X_train, y_train)"
   ]
  },
  {
   "cell_type": "markdown",
   "id": "02ababaa-6bd3-4b1a-80d8-02ee753f91b5",
   "metadata": {
    "pycharm": {
     "name": "#%% md\n"
    }
   },
   "source": [
    "## Get the Weights of the Model "
   ]
  },
  {
   "cell_type": "code",
   "execution_count": 83,
   "id": "3c2d3abc-29ab-4ce0-af2f-a0ce0f0ad490",
   "metadata": {
    "pycharm": {
     "name": "#%%\n"
    }
   },
   "outputs": [],
   "source": [
    "feature_importance = regressor.feature_importances_"
   ]
  },
  {
   "cell_type": "code",
   "execution_count": 84,
   "id": "3d18ef54-74a4-4d59-b80f-aa836e947566",
   "metadata": {
    "pycharm": {
     "name": "#%%\n"
    }
   },
   "outputs": [],
   "source": [
    "# normalize the weights\n",
    "feature_importance_normalized = np.std([tree.feature_importances_ for tree in \n",
    "                                       regressor.estimators_],\n",
    "                                        axis = 0)"
   ]
  },
  {
   "cell_type": "code",
   "execution_count": 85,
   "id": "c023e16e-3a27-4fce-a16b-63663714b355",
   "metadata": {
    "pycharm": {
     "name": "#%%\n"
    }
   },
   "outputs": [
    {
     "name": "stdout",
     "output_type": "stream",
     "text": [
      "[0.0073995  0.0058336  0.00593153 0.00688416 0.00725073 0.38869805\n",
      " 0.00566522 0.00798985 0.006764   0.00573928 0.00802438 0.32763748\n",
      " 0.00604962 0.00623738 0.00588117 0.00594051 0.00764415 0.38211873\n",
      " 0.00752845 0.0061106  0.00676402 0.0085411  0.00821281 0.36625537]\n"
     ]
    }
   ],
   "source": [
    "print(feature_importance_normalized)"
   ]
  },
  {
   "cell_type": "code",
   "execution_count": 86,
   "id": "6bcb9e82-a5e7-4f7c-94e8-e673c1dbf3c7",
   "metadata": {
    "pycharm": {
     "name": "#%%\n"
    }
   },
   "outputs": [
    {
     "data": {
      "text/plain": [
       "(24,)"
      ]
     },
     "execution_count": 86,
     "metadata": {},
     "output_type": "execute_result"
    }
   ],
   "source": [
    "feature_importance_normalized.shape"
   ]
  },
  {
   "cell_type": "code",
   "execution_count": 87,
   "id": "9b44e99a-c582-41f9-9de3-0409dd2d0bd6",
   "metadata": {
    "pycharm": {
     "name": "#%%\n"
    }
   },
   "outputs": [
    {
     "data": {
      "text/plain": [
       "{'bootstrap': True,\n",
       " 'ccp_alpha': 0.5,\n",
       " 'criterion': 'mse',\n",
       " 'max_depth': 15,\n",
       " 'max_features': 'auto',\n",
       " 'max_leaf_nodes': 20,\n",
       " 'max_samples': None,\n",
       " 'min_impurity_decrease': 0.0,\n",
       " 'min_samples_leaf': 2,\n",
       " 'min_samples_split': 2,\n",
       " 'min_weight_fraction_leaf': 0.0,\n",
       " 'n_estimators': 100,\n",
       " 'n_jobs': 1,\n",
       " 'oob_score': False,\n",
       " 'random_state': 123,\n",
       " 'verbose': 0,\n",
       " 'warm_start': False}"
      ]
     },
     "execution_count": 87,
     "metadata": {},
     "output_type": "execute_result"
    }
   ],
   "source": [
    "# get params\n",
    "regressor.get_params()"
   ]
  },
  {
   "cell_type": "code",
   "execution_count": 88,
   "id": "a5fc6139-305c-40be-b2d7-9d3ddccb4481",
   "metadata": {
    "pycharm": {
     "name": "#%%\n"
    }
   },
   "outputs": [],
   "source": [
    "# Get the names of the features\n",
    "feature_names = crop_data.columns[:24]"
   ]
  },
  {
   "cell_type": "code",
   "execution_count": 89,
   "id": "298a5830-9518-4a24-bf93-860021bf54a8",
   "metadata": {
    "pycharm": {
     "name": "#%%\n"
    }
   },
   "outputs": [
    {
     "data": {
      "image/png": "[encoded data removed]",
      "text/plain": [
       "<Figure size 1600x900 with 1 Axes>"
      ]
     },
     "metadata": {},
     "output_type": "display_data"
    }
   ],
   "source": [
    "# Make a horizontal bar graph to display the normalized weights \n",
    "\n",
    "# assign data to variable name \n",
    "name = feature_names[:24]\n",
    "name_importance = feature_importance_normalized[:24]\n",
    "# Figure Size\n",
    "fig, ax = plt.subplots(figsize =(16, 9))\n",
    "# sort values \n",
    "name_importance.sort()\n",
    "# Horizontal Bar Plot\n",
    "ax.barh(name, name_importance)\n",
    "# Add padding between axes and labels\n",
    "ax.xaxis.set_tick_params(pad = 5)\n",
    "ax.yaxis.set_tick_params(pad = 10)\n",
    "# Add axis labels \n",
    "plt.xlabel(\"Feature Importance\")\n",
    "plt.ylabel(\"Feature Name\")\n",
    "plt.show()\n"
   ]
  },
  {
   "cell_type": "markdown",
   "id": "371b22b0-70e8-4c3c-b8bf-efb50ec0ec40",
   "metadata": {
    "pycharm": {
     "name": "#%% md\n"
    }
   },
   "source": [
    "Here we can see that vv_by_vh values have the highest statistical significance in our model. Which helps us in our next feature selections. "
   ]
  },
  {
   "cell_type": "markdown",
   "id": "0da06015-a2ed-4601-9783-56d98885477c",
   "metadata": {
    "pycharm": {
     "name": "#%% md\n"
    }
   },
   "source": [
    "## Model Evaluation"
   ]
  },
  {
   "cell_type": "markdown",
   "id": "475c0e75-19ed-4eac-96b6-a7a0d42715cf",
   "metadata": {
    "pycharm": {
     "name": "#%% md\n"
    }
   },
   "source": [
    "Now that we have trained our model , all that is left is to evaluate it. For evaluation we will generate the R2 Score. Scikit-learn provides many other metrics that can be used for evaluation. You can even write a code on your own."
   ]
  },
  {
   "cell_type": "markdown",
   "id": "7e4c88ba-1f28-44a3-9af5-c1ec6ef5452d",
   "metadata": {
    "pycharm": {
     "name": "#%% md\n"
    }
   },
   "source": [
    "### In-Sample Evaluation\n",
    "<p align=\"Jutisfy\"> We will be generating a R2 Score for the training data. It must be stressed that this is in-sample performance testing , which is the performance testing on the training dataset. These metrics are NOT truly indicative of the model's performance. You should wait to test the model performance on the test data before you feel confident about your model.</p>"
   ]
  },
  {
   "cell_type": "markdown",
   "id": "bf847222-feff-474b-91fd-f2710ed69300",
   "metadata": {
    "pycharm": {
     "name": "#%% md\n"
    }
   },
   "source": [
    "In this section, we make predictions on the training set and store them in the <b><i>insample_ predictions</i></b> variable. R2 Score is generated to gauge the robustness of the model. "
   ]
  },
  {
   "cell_type": "code",
   "execution_count": 90,
   "id": "c8d8fc3d-5e2c-4177-b8f5-fa6f45a8bc4a",
   "metadata": {
    "pycharm": {
     "name": "#%%\n"
    }
   },
   "outputs": [],
   "source": [
    "insample_predictions = regressor.predict(X_train)"
   ]
  },
  {
   "cell_type": "code",
   "execution_count": 91,
   "id": "caa951a0-861f-4fa6-94c5-05118c6712f7",
   "metadata": {
    "pycharm": {
     "name": "#%%\n"
    }
   },
   "outputs": [
    {
     "name": "stdout",
     "output_type": "stream",
     "text": [
      "Insample R2 Score: 0.77\n"
     ]
    }
   ],
   "source": [
    "print(\"Insample R2 Score: {0:.2f}\".format(r2_score(y_train,insample_predictions)))"
   ]
  },
  {
   "cell_type": "markdown",
   "id": "eccaf78a-b53b-47bd-8427-d974e1a15553",
   "metadata": {
    "pycharm": {
     "name": "#%% md\n"
    }
   },
   "source": [
    "### Out-Sample Evaluation"
   ]
  },
  {
   "cell_type": "markdown",
   "id": "7195a680-c271-4fb7-b1bb-e4cf5fc3b5e6",
   "metadata": {
    "pycharm": {
     "name": "#%% md\n"
    }
   },
   "source": [
    "When evaluating a machine learning model, it is essential to correctly and fairly evaluate the model's ability to generalize. This is because models have a tendency to overfit/underfit the dataset they are trained on. To estimate the out-of-sample performance, we will predict on the test data now. "
   ]
  },
  {
   "cell_type": "code",
   "execution_count": 92,
   "id": "7c0e7d43-1eb9-4588-93ba-9c06293c9865",
   "metadata": {
    "pycharm": {
     "name": "#%%\n"
    }
   },
   "outputs": [],
   "source": [
    "outsample_predictions = regressor.predict(X_test)"
   ]
  },
  {
   "cell_type": "code",
   "execution_count": 93,
   "id": "ddc26e10-471f-46d1-af38-d295fc375e7e",
   "metadata": {
    "pycharm": {
     "name": "#%%\n"
    }
   },
   "outputs": [
    {
     "name": "stdout",
     "output_type": "stream",
     "text": [
      "Outsample R2 Score: 0.64\n"
     ]
    }
   ],
   "source": [
    "print(\"Outsample R2 Score: {0:.2f}\".format(r2_score(y_test,outsample_predictions)))"
   ]
  },
  {
   "cell_type": "markdown",
   "id": "71ccd250-887b-4539-9b22-800009d68994",
   "metadata": {
    "pycharm": {
     "name": "#%% md\n"
    }
   },
   "source": [
    "From the above, we can clearly see that the model is overfitting and is able to achieve an <strong>R2 score</strong> of <b>0.25</b>. This is not a very good model, so your goal is to improve this model and the R2 Score to its maximum."
   ]
  },
  {
   "cell_type": "markdown",
   "id": "9f6dec09-63a2-4170-9e93-97379f1f9039",
   "metadata": {
    "pycharm": {
     "name": "#%% md\n"
    }
   },
   "source": [
    "## Submission"
   ]
  },
  {
   "cell_type": "markdown",
   "id": "e9ccb559-4e51-430f-ac5b-4ee00b1e6068",
   "metadata": {
    "pycharm": {
     "name": "#%% md\n"
    }
   },
   "source": [
    "Once you are happy with your model, you can make a submission. To make a submission, you will need to use your model to make the yield predictions of rice crop for a set of test coordinates we have provided in the <a href=\"https://challenge.ey.com/api/v1/storage/admin-files/8515054086281302-63ca8f827b1fe300146c7e21-challenge_2_submission_template.csv\"><b>\"challenge_2_submission_template.csv\"</b></a> file and upload the file onto the challenge platform."
   ]
  },
  {
   "cell_type": "code",
   "execution_count": 39,
   "id": "faa43a8e-d319-468d-a657-f8f1a4cb8868",
   "metadata": {
    "pycharm": {
     "name": "#%%\n"
    }
   },
   "outputs": [
    {
     "data": {
      "text/html": [
       "<div>\n",
       "<style scoped>\n",
       "    .dataframe tbody tr th:only-of-type {\n",
       "        vertical-align: middle;\n",
       "    }\n",
       "\n",
       "    .dataframe tbody tr th {\n",
       "        vertical-align: top;\n",
       "    }\n",
       "\n",
       "    .dataframe thead th {\n",
       "        text-align: right;\n",
       "    }\n",
       "</style>\n",
       "<table border=\"1\" class=\"dataframe\">\n",
       "  <thead>\n",
       "    <tr style=\"text-align: right;\">\n",
       "      <th></th>\n",
       "      <th>ID No</th>\n",
       "      <th>District</th>\n",
       "      <th>Latitude</th>\n",
       "      <th>Longitude</th>\n",
       "      <th>Season(SA = Summer Autumn, WS = Winter Spring)</th>\n",
       "      <th>Rice Crop Intensity(D=Double, T=Triple)</th>\n",
       "      <th>Date of Harvest</th>\n",
       "      <th>Field size (ha)</th>\n",
       "      <th>Predicted Rice Yield (kg/ha)</th>\n",
       "    </tr>\n",
       "  </thead>\n",
       "  <tbody>\n",
       "    <tr>\n",
       "      <th>0</th>\n",
       "      <td>1</td>\n",
       "      <td>Chau_Phu</td>\n",
       "      <td>10.542192</td>\n",
       "      <td>105.187920</td>\n",
       "      <td>WS</td>\n",
       "      <td>T</td>\n",
       "      <td>10-04-2022</td>\n",
       "      <td>1.40</td>\n",
       "      <td>NaN</td>\n",
       "    </tr>\n",
       "    <tr>\n",
       "      <th>1</th>\n",
       "      <td>2</td>\n",
       "      <td>Chau_Thanh</td>\n",
       "      <td>10.400189</td>\n",
       "      <td>105.331053</td>\n",
       "      <td>SA</td>\n",
       "      <td>T</td>\n",
       "      <td>15-07-2022</td>\n",
       "      <td>1.32</td>\n",
       "      <td>NaN</td>\n",
       "    </tr>\n",
       "    <tr>\n",
       "      <th>2</th>\n",
       "      <td>3</td>\n",
       "      <td>Chau_Phu</td>\n",
       "      <td>10.505489</td>\n",
       "      <td>105.203926</td>\n",
       "      <td>SA</td>\n",
       "      <td>D</td>\n",
       "      <td>14-07-2022</td>\n",
       "      <td>1.40</td>\n",
       "      <td>NaN</td>\n",
       "    </tr>\n",
       "    <tr>\n",
       "      <th>3</th>\n",
       "      <td>4</td>\n",
       "      <td>Chau_Phu</td>\n",
       "      <td>10.523520</td>\n",
       "      <td>105.138274</td>\n",
       "      <td>WS</td>\n",
       "      <td>D</td>\n",
       "      <td>10-04-2022</td>\n",
       "      <td>1.80</td>\n",
       "      <td>NaN</td>\n",
       "    </tr>\n",
       "    <tr>\n",
       "      <th>4</th>\n",
       "      <td>5</td>\n",
       "      <td>Thoai_Son</td>\n",
       "      <td>10.294660</td>\n",
       "      <td>105.248528</td>\n",
       "      <td>SA</td>\n",
       "      <td>T</td>\n",
       "      <td>20-07-2022</td>\n",
       "      <td>2.20</td>\n",
       "      <td>NaN</td>\n",
       "    </tr>\n",
       "  </tbody>\n",
       "</table>\n",
       "</div>"
      ],
      "text/plain": [
       "   ID No    District   Latitude   Longitude  \\\n",
       "0      1    Chau_Phu  10.542192  105.187920   \n",
       "1      2  Chau_Thanh  10.400189  105.331053   \n",
       "2      3    Chau_Phu  10.505489  105.203926   \n",
       "3      4    Chau_Phu  10.523520  105.138274   \n",
       "4      5   Thoai_Son  10.294660  105.248528   \n",
       "\n",
       "  Season(SA = Summer Autumn, WS = Winter Spring)  \\\n",
       "0                                             WS   \n",
       "1                                             SA   \n",
       "2                                             SA   \n",
       "3                                             WS   \n",
       "4                                             SA   \n",
       "\n",
       "  Rice Crop Intensity(D=Double, T=Triple) Date of Harvest  Field size (ha)  \\\n",
       "0                                       T      10-04-2022             1.40   \n",
       "1                                       T      15-07-2022             1.32   \n",
       "2                                       D      14-07-2022             1.40   \n",
       "3                                       D      10-04-2022             1.80   \n",
       "4                                       T      20-07-2022             2.20   \n",
       "\n",
       "   Predicted Rice Yield (kg/ha)  \n",
       "0                           NaN  \n",
       "1                           NaN  \n",
       "2                           NaN  \n",
       "3                           NaN  \n",
       "4                           NaN  "
      ]
     },
     "execution_count": 39,
     "metadata": {},
     "output_type": "execute_result"
    }
   ],
   "source": [
    "test_file = pd.read_csv('Challenge_2_submission_template.csv')\n",
    "test_file.head()"
   ]
  },
  {
   "cell_type": "code",
   "execution_count": 40,
   "id": "4dcb45d5-1a0d-4786-9057-e9e53ba68551",
   "metadata": {
    "pycharm": {
     "name": "#%%\n"
    }
   },
   "outputs": [
    {
     "data": {
      "application/vnd.jupyter.widget-view+json": {
       "model_id": "45522978142f42b6bae910c6b57b4981",
       "version_major": 2,
       "version_minor": 0
      },
      "text/plain": [
       "  0%|          | 0/100 [00:00<?, ?it/s]"
      ]
     },
     "metadata": {},
     "output_type": "display_data"
    }
   ],
   "source": [
    "# Get Sentinel-1-RTC Data\n",
    "assests = ['vh','vv']\n",
    "submission_band_values=test_file.progress_apply(lambda x: get_sentinel_data(x['Longitude'], x['Latitude'],x['Season(SA = Summer Autumn, WS = Winter Spring)'],assests), axis=1)\n",
    "submission_vh = [x[0] for x in submission_band_values]\n",
    "submission_vv = [x[1] for x in submission_band_values]\n",
    "submission_vv_by_vh = [x[2] for x in submission_band_values]\n",
    "submission_vh_vv_data = pd.DataFrame(list(zip(submission_vh,submission_vv,submission_vv_by_vh)),columns = [\"vv_list\",\"vh_list\",\"vv/vh_list\"])"
   ]
  },
  {
   "cell_type": "code",
   "execution_count": 95,
   "id": "915d9e6a-0f6f-466f-b0ad-5e278d7197b1",
   "metadata": {
    "pycharm": {
     "name": "#%%\n"
    }
   },
   "outputs": [],
   "source": [
    "# Generating Statistical Features for VV,VH and VV/VH and creating a dataframe\n",
    "features = generate_stastical_features(vh_vv_data)\n",
    "submission_features_data = pd.DataFrame(features ,columns =  ['min_vv', 'max_vv', 'range_vv', 'mean_vv', 'correlation_vv', 'permutation_entropy_vv',\n",
    "                        'min_vh', 'max_vh', 'range_vh', 'mean_vh', 'correlation_vh', 'permutation_entropy_vh',\n",
    "                        'min_vv_by_vh',  'max_vv_by_vh', 'range_vv_by_vh', 'mean_vv_by_vh', 'correlation_vv_by_vh', 'permutation_entropy_vv_by_vh',\n",
    "                        'min_rvi', 'max_rvi', 'range_rvi', 'mean_rvi','correlation_rvi', 'permutation_entropy_rvi'] )"
   ]
  },
  {
   "cell_type": "code",
   "execution_count": 99,
   "id": "a690d733-f06a-4be4-aec4-c3a2fbbf450e",
   "metadata": {
    "pycharm": {
     "name": "#%%\n"
    }
   },
   "outputs": [
    {
     "data": {
      "text/plain": [
       "array([[ 0.01352252,  0.33217745,  0.31865493, ...,  0.7739589 ,\n",
       "         0.42360983,  0.44753406],\n",
       "       [ 0.07589496,  0.3579728 ,  0.28207784, ...,  0.80065372,\n",
       "        -0.16325263,  0.44753406],\n",
       "       [ 0.02359051,  0.41009766,  0.38650715, ...,  0.78407782,\n",
       "         0.55226032,  0.44753406],\n",
       "       ...,\n",
       "       [ 0.01210353,  0.3027852 ,  0.29068167, ...,  0.80639346,\n",
       "         0.51832485,  0.51180533],\n",
       "       [ 0.02106777,  0.39272624,  0.37165847, ...,  0.80767814,\n",
       "         0.39752721,  0.51180533],\n",
       "       [ 0.01445157,  0.5208576 ,  0.50640603, ...,  0.80350067,\n",
       "         0.53180752,  0.51180533]])"
      ]
     },
     "execution_count": 99,
     "metadata": {},
     "output_type": "execute_result"
    }
   ],
   "source": [
    "submission_features_data.values"
   ]
  },
  {
   "cell_type": "code",
   "execution_count": 108,
   "id": "46eb000f-1d38-46a3-a09b-0f3fd33ec81c",
   "metadata": {
    "pycharm": {
     "name": "#%%\n"
    }
   },
   "outputs": [],
   "source": [
    "#Making predictions\n",
    "final_predictions = regressor.predict(submission_features_data.values)\n",
    "final_prediction_series = pd.Series(final_predictions)"
   ]
  },
  {
   "cell_type": "code",
   "execution_count": 109,
   "id": "ede57a52-7621-453b-ba72-d1b5c4c97d8e",
   "metadata": {
    "pycharm": {
     "name": "#%%\n"
    }
   },
   "outputs": [
    {
     "ename": "ValueError",
     "evalue": "Length of values (557) does not match length of index (100)",
     "output_type": "error",
     "traceback": [
      "\u001B[0;31m---------------------------------------------------------------------------\u001B[0m",
      "\u001B[0;31mValueError\u001B[0m                                Traceback (most recent call last)",
      "Cell \u001B[0;32mIn [109], line 2\u001B[0m\n\u001B[1;32m      1\u001B[0m \u001B[38;5;66;03m#Combining the results into dataframe\u001B[39;00m\n\u001B[0;32m----> 2\u001B[0m \u001B[43mtest_file\u001B[49m\u001B[43m[\u001B[49m\u001B[38;5;124;43m'\u001B[39;49m\u001B[38;5;124;43mPredicted Rice Yield (kg/ha)\u001B[39;49m\u001B[38;5;124;43m'\u001B[39;49m\u001B[43m]\u001B[49m \u001B[38;5;241m=\u001B[39m \u001B[38;5;28mlist\u001B[39m(final_prediction_series)\n",
      "File \u001B[0;32m/srv/conda/envs/notebook/lib/python3.10/site-packages/pandas/core/frame.py:3655\u001B[0m, in \u001B[0;36mDataFrame.__setitem__\u001B[0;34m(self, key, value)\u001B[0m\n\u001B[1;32m   3652\u001B[0m     \u001B[38;5;28mself\u001B[39m\u001B[38;5;241m.\u001B[39m_setitem_array([key], value)\n\u001B[1;32m   3653\u001B[0m \u001B[38;5;28;01melse\u001B[39;00m:\n\u001B[1;32m   3654\u001B[0m     \u001B[38;5;66;03m# set column\u001B[39;00m\n\u001B[0;32m-> 3655\u001B[0m     \u001B[38;5;28;43mself\u001B[39;49m\u001B[38;5;241;43m.\u001B[39;49m\u001B[43m_set_item\u001B[49m\u001B[43m(\u001B[49m\u001B[43mkey\u001B[49m\u001B[43m,\u001B[49m\u001B[43m \u001B[49m\u001B[43mvalue\u001B[49m\u001B[43m)\u001B[49m\n",
      "File \u001B[0;32m/srv/conda/envs/notebook/lib/python3.10/site-packages/pandas/core/frame.py:3832\u001B[0m, in \u001B[0;36mDataFrame._set_item\u001B[0;34m(self, key, value)\u001B[0m\n\u001B[1;32m   3822\u001B[0m \u001B[38;5;28;01mdef\u001B[39;00m \u001B[38;5;21m_set_item\u001B[39m(\u001B[38;5;28mself\u001B[39m, key, value) \u001B[38;5;241m-\u001B[39m\u001B[38;5;241m>\u001B[39m \u001B[38;5;28;01mNone\u001B[39;00m:\n\u001B[1;32m   3823\u001B[0m     \u001B[38;5;124;03m\"\"\"\u001B[39;00m\n\u001B[1;32m   3824\u001B[0m \u001B[38;5;124;03m    Add series to DataFrame in specified column.\u001B[39;00m\n\u001B[1;32m   3825\u001B[0m \n\u001B[0;32m   (...)\u001B[0m\n\u001B[1;32m   3830\u001B[0m \u001B[38;5;124;03m    ensure homogeneity.\u001B[39;00m\n\u001B[1;32m   3831\u001B[0m \u001B[38;5;124;03m    \"\"\"\u001B[39;00m\n\u001B[0;32m-> 3832\u001B[0m     value \u001B[38;5;241m=\u001B[39m \u001B[38;5;28;43mself\u001B[39;49m\u001B[38;5;241;43m.\u001B[39;49m\u001B[43m_sanitize_column\u001B[49m\u001B[43m(\u001B[49m\u001B[43mvalue\u001B[49m\u001B[43m)\u001B[49m\n\u001B[1;32m   3834\u001B[0m     \u001B[38;5;28;01mif\u001B[39;00m (\n\u001B[1;32m   3835\u001B[0m         key \u001B[38;5;129;01min\u001B[39;00m \u001B[38;5;28mself\u001B[39m\u001B[38;5;241m.\u001B[39mcolumns\n\u001B[1;32m   3836\u001B[0m         \u001B[38;5;129;01mand\u001B[39;00m value\u001B[38;5;241m.\u001B[39mndim \u001B[38;5;241m==\u001B[39m \u001B[38;5;241m1\u001B[39m\n\u001B[1;32m   3837\u001B[0m         \u001B[38;5;129;01mand\u001B[39;00m \u001B[38;5;129;01mnot\u001B[39;00m is_extension_array_dtype(value)\n\u001B[1;32m   3838\u001B[0m     ):\n\u001B[1;32m   3839\u001B[0m         \u001B[38;5;66;03m# broadcast across multiple columns if necessary\u001B[39;00m\n\u001B[1;32m   3840\u001B[0m         \u001B[38;5;28;01mif\u001B[39;00m \u001B[38;5;129;01mnot\u001B[39;00m \u001B[38;5;28mself\u001B[39m\u001B[38;5;241m.\u001B[39mcolumns\u001B[38;5;241m.\u001B[39mis_unique \u001B[38;5;129;01mor\u001B[39;00m \u001B[38;5;28misinstance\u001B[39m(\u001B[38;5;28mself\u001B[39m\u001B[38;5;241m.\u001B[39mcolumns, MultiIndex):\n",
      "File \u001B[0;32m/srv/conda/envs/notebook/lib/python3.10/site-packages/pandas/core/frame.py:4538\u001B[0m, in \u001B[0;36mDataFrame._sanitize_column\u001B[0;34m(self, value)\u001B[0m\n\u001B[1;32m   4535\u001B[0m     \u001B[38;5;28;01mreturn\u001B[39;00m _reindex_for_setitem(value, \u001B[38;5;28mself\u001B[39m\u001B[38;5;241m.\u001B[39mindex)\n\u001B[1;32m   4537\u001B[0m \u001B[38;5;28;01mif\u001B[39;00m is_list_like(value):\n\u001B[0;32m-> 4538\u001B[0m     \u001B[43mcom\u001B[49m\u001B[38;5;241;43m.\u001B[39;49m\u001B[43mrequire_length_match\u001B[49m\u001B[43m(\u001B[49m\u001B[43mvalue\u001B[49m\u001B[43m,\u001B[49m\u001B[43m \u001B[49m\u001B[38;5;28;43mself\u001B[39;49m\u001B[38;5;241;43m.\u001B[39;49m\u001B[43mindex\u001B[49m\u001B[43m)\u001B[49m\n\u001B[1;32m   4539\u001B[0m \u001B[38;5;28;01mreturn\u001B[39;00m sanitize_array(value, \u001B[38;5;28mself\u001B[39m\u001B[38;5;241m.\u001B[39mindex, copy\u001B[38;5;241m=\u001B[39m\u001B[38;5;28;01mTrue\u001B[39;00m, allow_2d\u001B[38;5;241m=\u001B[39m\u001B[38;5;28;01mTrue\u001B[39;00m)\n",
      "File \u001B[0;32m/srv/conda/envs/notebook/lib/python3.10/site-packages/pandas/core/common.py:557\u001B[0m, in \u001B[0;36mrequire_length_match\u001B[0;34m(data, index)\u001B[0m\n\u001B[1;32m    553\u001B[0m \u001B[38;5;124;03m\"\"\"\u001B[39;00m\n\u001B[1;32m    554\u001B[0m \u001B[38;5;124;03mCheck the length of data matches the length of the index.\u001B[39;00m\n\u001B[1;32m    555\u001B[0m \u001B[38;5;124;03m\"\"\"\u001B[39;00m\n\u001B[1;32m    556\u001B[0m \u001B[38;5;28;01mif\u001B[39;00m \u001B[38;5;28mlen\u001B[39m(data) \u001B[38;5;241m!=\u001B[39m \u001B[38;5;28mlen\u001B[39m(index):\n\u001B[0;32m--> 557\u001B[0m     \u001B[38;5;28;01mraise\u001B[39;00m \u001B[38;5;167;01mValueError\u001B[39;00m(\n\u001B[1;32m    558\u001B[0m         \u001B[38;5;124m\"\u001B[39m\u001B[38;5;124mLength of values \u001B[39m\u001B[38;5;124m\"\u001B[39m\n\u001B[1;32m    559\u001B[0m         \u001B[38;5;124mf\u001B[39m\u001B[38;5;124m\"\u001B[39m\u001B[38;5;124m(\u001B[39m\u001B[38;5;132;01m{\u001B[39;00m\u001B[38;5;28mlen\u001B[39m(data)\u001B[38;5;132;01m}\u001B[39;00m\u001B[38;5;124m) \u001B[39m\u001B[38;5;124m\"\u001B[39m\n\u001B[1;32m    560\u001B[0m         \u001B[38;5;124m\"\u001B[39m\u001B[38;5;124mdoes not match length of index \u001B[39m\u001B[38;5;124m\"\u001B[39m\n\u001B[1;32m    561\u001B[0m         \u001B[38;5;124mf\u001B[39m\u001B[38;5;124m\"\u001B[39m\u001B[38;5;124m(\u001B[39m\u001B[38;5;132;01m{\u001B[39;00m\u001B[38;5;28mlen\u001B[39m(index)\u001B[38;5;132;01m}\u001B[39;00m\u001B[38;5;124m)\u001B[39m\u001B[38;5;124m\"\u001B[39m\n\u001B[1;32m    562\u001B[0m     )\n",
      "\u001B[0;31mValueError\u001B[0m: Length of values (557) does not match length of index (100)"
     ]
    }
   ],
   "source": [
    "#Combining the results into dataframe\n",
    "test_file['Predicted Rice Yield (kg/ha)'] = list(final_prediction_series)"
   ]
  },
  {
   "cell_type": "code",
   "execution_count": null,
   "id": "489a2239-1fb3-41e5-9ae9-4612d792eb64",
   "metadata": {
    "pycharm": {
     "name": "#%%\n"
    }
   },
   "outputs": [],
   "source": [
    "#Dumping the predictions into a csv file.\n",
    "test_file.to_csv(\"challenge_2_submission_rice_crop_yield_prediction.csv\",index = False)"
   ]
  },
  {
   "cell_type": "markdown",
   "id": "ec7d73fe-a693-4b2d-8db8-7d6b0515596e",
   "metadata": {
    "pycharm": {
     "name": "#%% md\n"
    }
   },
   "source": [
    "## Conclusion"
   ]
  },
  {
   "cell_type": "markdown",
   "id": "c6237ee9-3077-47b7-ba7c-d1ed6fff934d",
   "metadata": {
    "pycharm": {
     "name": "#%% md\n"
    }
   },
   "source": [
    "Now that you have learned a basic approach to model training, it’s time to try your own approach! Feel free to modify any of the functions presented in this notebook. We look forward to seeing your version of the model and the results. Best of luck with the challenge!"
   ]
  }
 ],
 "metadata": {
  "kernelspec": {
   "display_name": "Python [conda env:notebook] *",
   "language": "python",
   "name": "conda-env-notebook-py"
  },
  "language_info": {
   "codemirror_mode": {
    "name": "ipython",
    "version": 3
   },
   "file_extension": ".py",
   "mimetype": "text/x-python",
   "name": "python",
   "nbconvert_exporter": "python",
   "pygments_lexer": "ipython3",
   "version": "3.10.6"
  }
 },
 "nbformat": 4,
 "nbformat_minor": 5
}
